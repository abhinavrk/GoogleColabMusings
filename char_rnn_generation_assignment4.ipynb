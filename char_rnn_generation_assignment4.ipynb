{
  "nbformat": 4,
  "nbformat_minor": 0,
  "metadata": {
    "colab": {
      "name": "char_rnn_generation_assignment4.ipynb",
      "version": "0.3.2",
      "provenance": [],
      "collapsed_sections": [],
      "include_colab_link": true
    },
    "kernelspec": {
      "name": "python3",
      "language": "python",
      "display_name": "Python 3"
    },
    "accelerator": "GPU"
  },
  "cells": [
    {
      "cell_type": "markdown",
      "metadata": {
        "id": "view-in-github",
        "colab_type": "text"
      },
      "source": [
        "[View in Colaboratory](https://colab.research.google.com/github/abhinavrk/GoogleColabMusings/blob/master/char_rnn_generation_assignment4.ipynb)"
      ]
    },
    {
      "metadata": {
        "id": "wuCeAzDMdKqA",
        "colab_type": "code",
        "colab": {
          "base_uri": "https://localhost:8080/",
          "height": 627
        },
        "outputId": "32c727ad-21f7-4285-e693-2c17f9266114"
      },
      "cell_type": "code",
      "source": [
        "loaded = False\n",
        "\n",
        "if not loaded:\n",
        "  # http://pytorch.org/\n",
        "  from os import path\n",
        "  from wheel.pep425tags import get_abbr_impl, get_impl_ver, get_abi_tag\n",
        "  platform = '{}{}-{}'.format(get_abbr_impl(), get_impl_ver(), get_abi_tag())\n",
        "\n",
        "  accelerator = 'cu80' if path.exists('/opt/bin/nvidia-smi') else 'cpu'\n",
        "\n",
        "  !pip install -q http://download.pytorch.org/whl/{accelerator}/torch-0.4.0-{platform}-linux_x86_64.whl torchvision\n",
        "\n",
        "  import torch\n",
        "  loaded = True\n",
        "\n",
        "  !wget https://download.pytorch.org/tutorial/data.zip\n",
        "  !unzip data.zip\n",
        "\n"
      ],
      "execution_count": 6,
      "outputs": [
        {
          "output_type": "stream",
          "text": [
            "tcmalloc: large alloc 1073750016 bytes == 0x5b1b2000 @  0x7f4559aa91c4 0x46d6a4 0x5fcbcc 0x4c494d 0x54f3c4 0x553aaf 0x54e4c8 0x54f4f6 0x553aaf 0x54efc1 0x54f24d 0x553aaf 0x54efc1 0x54f24d 0x553aaf 0x54efc1 0x54f24d 0x551ee0 0x54e4c8 0x54f4f6 0x553aaf 0x54efc1 0x54f24d 0x551ee0 0x54efc1 0x54f24d 0x551ee0 0x54e4c8 0x54f4f6 0x553aaf 0x54e4c8\n",
            "--2018-07-19 17:16:07--  https://download.pytorch.org/tutorial/data.zip\n",
            "Resolving download.pytorch.org (download.pytorch.org)... 13.32.80.53, 13.32.80.22, 13.32.80.66, ...\n",
            "Connecting to download.pytorch.org (download.pytorch.org)|13.32.80.53|:443... connected.\n",
            "HTTP request sent, awaiting response... 200 OK\n",
            "Length: 2882130 (2.7M) [application/zip]\n",
            "Saving to: ‘data.zip’\n",
            "\n",
            "data.zip            100%[===================>]   2.75M  5.43MB/s    in 0.5s    \n",
            "\n",
            "2018-07-19 17:16:08 (5.43 MB/s) - ‘data.zip’ saved [2882130/2882130]\n",
            "\n",
            "Archive:  data.zip\n",
            "   creating: data/\n",
            "  inflating: data/eng-fra.txt        \n",
            "   creating: data/names/\n",
            "  inflating: data/names/Arabic.txt   \n",
            "  inflating: data/names/Chinese.txt  \n",
            "  inflating: data/names/Czech.txt    \n",
            "  inflating: data/names/Dutch.txt    \n",
            "  inflating: data/names/English.txt  \n",
            "  inflating: data/names/French.txt   \n",
            "  inflating: data/names/German.txt   \n",
            "  inflating: data/names/Greek.txt    \n",
            "  inflating: data/names/Irish.txt    \n",
            "  inflating: data/names/Italian.txt  \n",
            "  inflating: data/names/Japanese.txt  \n",
            "  inflating: data/names/Korean.txt   \n",
            "  inflating: data/names/Polish.txt   \n",
            "  inflating: data/names/Portuguese.txt  \n",
            "  inflating: data/names/Russian.txt  \n",
            "  inflating: data/names/Scottish.txt  \n",
            "  inflating: data/names/Spanish.txt  \n",
            "  inflating: data/names/Vietnamese.txt  \n"
          ],
          "name": "stdout"
        }
      ]
    },
    {
      "metadata": {
        "id": "-G-Yby43cwwc",
        "colab_type": "code",
        "colab": {}
      },
      "cell_type": "code",
      "source": [
        "%matplotlib inline"
      ],
      "execution_count": 0,
      "outputs": []
    },
    {
      "metadata": {
        "id": "P8mxtXctcwwq",
        "colab_type": "code",
        "colab": {
          "base_uri": "https://localhost:8080/",
          "height": 72
        },
        "outputId": "8453b567-8ea6-445d-9ed8-d1bfcc507c45"
      },
      "cell_type": "code",
      "source": [
        "from __future__ import unicode_literals, print_function, division\n",
        "from io import open\n",
        "import glob\n",
        "import os\n",
        "import unicodedata\n",
        "import string\n",
        "\n",
        "all_letters = string.ascii_letters + \" .,;'-\"\n",
        "n_letters = len(all_letters) + 1 # Plus EOS marker\n",
        "\n",
        "def findFiles(path): return glob.glob(path)\n",
        "\n",
        "# Turn a Unicode string to plain ASCII, thanks to http://stackoverflow.com/a/518232/2809427\n",
        "def unicodeToAscii(s):\n",
        "    return ''.join(\n",
        "        c for c in unicodedata.normalize('NFD', s)\n",
        "        if unicodedata.category(c) != 'Mn'\n",
        "        and c in all_letters\n",
        "    )\n",
        "\n",
        "# Read a file and split into lines\n",
        "def readLines(filename):\n",
        "    lines = open(filename, encoding='utf-8').read().strip().split('\\n')\n",
        "    return [unicodeToAscii(line) for line in lines]\n",
        "\n",
        "# Build the category_lines dictionary, a list of lines per category\n",
        "category_lines = {}\n",
        "all_categories = []\n",
        "for filename in findFiles('data/names/*.txt'):\n",
        "    category = os.path.splitext(os.path.basename(filename))[0]\n",
        "    all_categories.append(category)\n",
        "    lines = readLines(filename)\n",
        "    category_lines[category] = lines\n",
        "\n",
        "n_categories = len(all_categories)\n",
        "\n",
        "if n_categories == 0:\n",
        "    raise RuntimeError('Data not found. Make sure that you downloaded data '\n",
        "        'from https://download.pytorch.org/tutorial/data.zip and extract it to '\n",
        "        'the current directory.')\n",
        "\n",
        "print('# categories:', n_categories, all_categories)\n",
        "print(unicodeToAscii(\"O'Néàl\"))"
      ],
      "execution_count": 8,
      "outputs": [
        {
          "output_type": "stream",
          "text": [
            "# categories: 18 ['German', 'Spanish', 'Czech', 'Dutch', 'Portuguese', 'Vietnamese', 'Greek', 'Irish', 'Russian', 'Polish', 'Scottish', 'Arabic', 'Italian', 'Japanese', 'English', 'French', 'Chinese', 'Korean']\n",
            "O'Neal\n"
          ],
          "name": "stdout"
        }
      ]
    },
    {
      "metadata": {
        "id": "JE693O61cwxA",
        "colab_type": "code",
        "colab": {}
      },
      "cell_type": "code",
      "source": [
        "import random\n",
        "\n",
        "# Random item from a list\n",
        "def randomChoice(l):\n",
        "    return l[random.randint(0, len(l) - 1)]\n",
        "\n",
        "# Get a random category and random line from that category\n",
        "def randomTrainingPair():\n",
        "    category = randomChoice(all_categories)\n",
        "    line = randomChoice(category_lines[category])\n",
        "    return category, line"
      ],
      "execution_count": 0,
      "outputs": []
    },
    {
      "metadata": {
        "id": "IuGQHLFXcwxI",
        "colab_type": "code",
        "colab": {}
      },
      "cell_type": "code",
      "source": [
        "# One-hot vector for category\n",
        "def categoryTensor(category):\n",
        "    li = all_categories.index(category)\n",
        "    tensor = torch.zeros(1, n_categories)\n",
        "    tensor[0][li] = 1\n",
        "    return tensor\n",
        "\n",
        "# One-hot matrix of first to last letters (not including EOS) for input\n",
        "def inputTensor(line):\n",
        "    tensor = torch.zeros(len(line), 1, n_letters)\n",
        "    for li in range(len(line)):\n",
        "        letter = line[li]\n",
        "        tensor[li][0][all_letters.find(letter)] = 1\n",
        "    return tensor\n",
        "\n",
        "# LongTensor of second letter to end (EOS) for target\n",
        "def targetTensor(line):\n",
        "    letter_indexes = [all_letters.find(line[li]) for li in range(1, len(line))]\n",
        "    letter_indexes.append(n_letters - 1) # EOS\n",
        "    return torch.LongTensor(letter_indexes)"
      ],
      "execution_count": 0,
      "outputs": []
    },
    {
      "metadata": {
        "id": "4jCz04Z8cwxU",
        "colab_type": "code",
        "colab": {}
      },
      "cell_type": "code",
      "source": [
        "# Make category, input, and target tensors from a random category, line pair\n",
        "def randomTrainingExample():\n",
        "    category, line = randomTrainingPair()\n",
        "    category_tensor = categoryTensor(category)\n",
        "    input_line_tensor = inputTensor(line)\n",
        "    target_line_tensor = targetTensor(line)\n",
        "    return category_tensor, input_line_tensor, target_line_tensor"
      ],
      "execution_count": 0,
      "outputs": []
    },
    {
      "metadata": {
        "id": "KgN0qjC_cwxn",
        "colab_type": "code",
        "colab": {}
      },
      "cell_type": "code",
      "source": [
        "import time\n",
        "import math\n",
        "\n",
        "def timeSince(since):\n",
        "    now = time.time()\n",
        "    s = now - since\n",
        "    m = math.floor(s / 60)\n",
        "    s -= m * 60\n",
        "    return '%dm %ds' % (m, s)"
      ],
      "execution_count": 0,
      "outputs": []
    },
    {
      "metadata": {
        "id": "CoOiXfrwcww2",
        "colab_type": "code",
        "colab": {}
      },
      "cell_type": "code",
      "source": [
        "import torch\n",
        "import torch.nn as nn\n",
        "\n",
        "class RNN_phidden_pchar_category(nn.Module):\n",
        "    def __init__(self, input_size, hidden_size, output_size):\n",
        "        super(RNN_phidden_pchar_category, self).__init__()\n",
        "        self.hidden_size = hidden_size\n",
        "\n",
        "        self.i2h = nn.Linear(n_categories + input_size + hidden_size, hidden_size)\n",
        "        self.i2o = nn.Linear(n_categories + input_size + hidden_size, output_size)\n",
        "        self.o2o = nn.Linear(hidden_size + output_size, output_size)\n",
        "        self.dropout = nn.Dropout(0.1)\n",
        "        self.softmax = nn.LogSoftmax(dim=1)\n",
        "\n",
        "    def forward(self, category, input, hidden):\n",
        "        input_combined = torch.cat((category, input, hidden), 1)\n",
        "        hidden = self.i2h(input_combined)\n",
        "        output = self.i2o(input_combined)\n",
        "        output_combined = torch.cat((hidden, output), 1)\n",
        "        output = self.o2o(output_combined)\n",
        "        output = self.dropout(output)\n",
        "        output = self.softmax(output)\n",
        "        return output, hidden\n",
        "\n",
        "    def initHidden(self):\n",
        "        return torch.zeros(1, self.hidden_size)\n",
        "      \n",
        "class RNN_phidden_pchar(nn.Module):\n",
        "    def __init__(self, input_size, hidden_size, output_size):\n",
        "        super(RNN_phidden_pchar, self).__init__()\n",
        "        self.hidden_size = hidden_size\n",
        "\n",
        "        self.i2h = nn.Linear(input_size + hidden_size, hidden_size)\n",
        "        self.i2o = nn.Linear(input_size + hidden_size, output_size)\n",
        "        self.o2o = nn.Linear(hidden_size + output_size, output_size)\n",
        "        self.dropout = nn.Dropout(0.1)\n",
        "        self.softmax = nn.LogSoftmax(dim=1)\n",
        "\n",
        "    def forward(self, category, input, hidden):\n",
        "        input_combined = torch.cat((input, hidden), 1)\n",
        "        hidden = self.i2h(input_combined)\n",
        "        output = self.i2o(input_combined)\n",
        "        output_combined = torch.cat((hidden, output), 1)\n",
        "        output = self.o2o(output_combined)\n",
        "        output = self.dropout(output)\n",
        "        output = self.softmax(output)\n",
        "        return output, hidden\n",
        "\n",
        "    def initHidden(self):\n",
        "        return torch.zeros(1, self.hidden_size)\n",
        "\n",
        "class RNN_phidden_category(nn.Module):\n",
        "    def __init__(self, input_size, hidden_size, output_size):\n",
        "        super(RNN_phidden_category, self).__init__()\n",
        "        self.hidden_size = hidden_size\n",
        "\n",
        "        self.i2h = nn.Linear(n_categories + hidden_size, hidden_size)\n",
        "        self.i2o = nn.Linear(n_categories + hidden_size, output_size)\n",
        "        self.o2o = nn.Linear(hidden_size + output_size, output_size)\n",
        "        self.dropout = nn.Dropout(0.1)\n",
        "        self.softmax = nn.LogSoftmax(dim=1)\n",
        "\n",
        "    def forward(self, category, input, hidden):\n",
        "        input_combined = torch.cat((category, hidden), 1)\n",
        "        hidden = self.i2h(input_combined)\n",
        "        output = self.i2o(input_combined)\n",
        "        output_combined = torch.cat((hidden, output), 1)\n",
        "        output = self.o2o(output_combined)\n",
        "        output = self.dropout(output)\n",
        "        output = self.softmax(output)\n",
        "        return output, hidden\n",
        "\n",
        "    def initHidden(self):\n",
        "        return torch.zeros(1, self.hidden_size)\n",
        "\n",
        "class RNN_phidden(nn.Module):\n",
        "    def __init__(self, input_size, hidden_size, output_size):\n",
        "        super(RNN_phidden, self).__init__()\n",
        "        self.hidden_size = hidden_size\n",
        "\n",
        "        self.i2h = nn.Linear(hidden_size, hidden_size)\n",
        "        self.i2o = nn.Linear(hidden_size, output_size)\n",
        "        self.o2o = nn.Linear(hidden_size + output_size, output_size)\n",
        "        self.dropout = nn.Dropout(0.1)\n",
        "        self.softmax = nn.LogSoftmax(dim=1)\n",
        "\n",
        "    def forward(self, category, input, hidden):\n",
        "        input_combined = hidden\n",
        "        hidden = self.i2h(input_combined)\n",
        "        output = self.i2o(input_combined)\n",
        "        output_combined = torch.cat((hidden, output), 1)\n",
        "        output = self.o2o(output_combined)\n",
        "        output = self.dropout(output)\n",
        "        output = self.softmax(output)\n",
        "        return output, hidden\n",
        "\n",
        "    def initHidden(self):\n",
        "        return torch.zeros(1, self.hidden_size)"
      ],
      "execution_count": 0,
      "outputs": []
    },
    {
      "metadata": {
        "id": "DLaoUQ2Tcwxf",
        "colab_type": "code",
        "colab": {}
      },
      "cell_type": "code",
      "source": [
        "criterion = nn.NLLLoss()\n",
        "\n",
        "learning_rate = 0.0005\n",
        "\n",
        "def train(rnn, category_tensor, input_line_tensor, target_line_tensor):\n",
        "    target_line_tensor.unsqueeze_(-1)\n",
        "    hidden = rnn.initHidden()\n",
        "\n",
        "    rnn.zero_grad()\n",
        "\n",
        "    loss = 0\n",
        "\n",
        "    for i in range(input_line_tensor.size(0)):\n",
        "        output, hidden = rnn(category_tensor, input_line_tensor[i], hidden)\n",
        "        l = criterion(output, target_line_tensor[i])\n",
        "        loss += l\n",
        "\n",
        "    loss.backward()\n",
        "\n",
        "    for p in rnn.parameters():\n",
        "        p.data.add_(-learning_rate, p.grad.data)\n",
        "\n",
        "    return output, loss.item() / input_line_tensor.size(0)"
      ],
      "execution_count": 0,
      "outputs": []
    },
    {
      "metadata": {
        "id": "3jAyBZTVcwxy",
        "colab_type": "code",
        "colab": {}
      },
      "cell_type": "code",
      "source": [
        "def do_train(rnn, all_losses):\n",
        "\n",
        "  n_iters = 100000\n",
        "  print_every = 5000\n",
        "  plot_every = 500\n",
        "  total_loss = 0 # Reset every plot_every iters\n",
        "\n",
        "  start = time.time()\n",
        "\n",
        "  for iter in range(1, n_iters + 1):\n",
        "      output, loss = train(rnn, *randomTrainingExample())\n",
        "      total_loss += loss\n",
        "\n",
        "      if iter % print_every == 0:\n",
        "          print('%s (%d %d%%) %.4f' % (timeSince(start), iter, iter / n_iters * 100, loss))\n",
        "\n",
        "      if iter % plot_every == 0:\n",
        "          all_losses.append(total_loss / plot_every)\n",
        "          total_loss = 0"
      ],
      "execution_count": 0,
      "outputs": []
    },
    {
      "metadata": {
        "id": "SFa63muFcwx9",
        "colab_type": "code",
        "colab": {
          "base_uri": "https://localhost:8080/",
          "height": 364
        },
        "outputId": "5ff6f828-ac3d-4296-d7d6-b09f94cbb4d0"
      },
      "cell_type": "code",
      "source": [
        "import matplotlib.pyplot as plt\n",
        "import matplotlib.ticker as ticker\n",
        "\n",
        "rnn_phidden_pchar_category = RNN_phidden_pchar_category(\n",
        "    n_letters, 128, n_letters)\n",
        "all_losses_phidden_pchar_category = []\n",
        "do_train(rnn_phidden_pchar_category, all_losses_phidden_pchar_category)"
      ],
      "execution_count": 17,
      "outputs": [
        {
          "output_type": "stream",
          "text": [
            "0m 19s (5000 5%) 2.7248\n",
            "0m 37s (10000 10%) 3.9466\n",
            "0m 56s (15000 15%) 2.6862\n",
            "1m 14s (20000 20%) 2.7262\n",
            "1m 32s (25000 25%) 3.1803\n",
            "1m 51s (30000 30%) 3.5821\n",
            "2m 9s (35000 35%) 1.8479\n",
            "2m 27s (40000 40%) 2.2864\n",
            "2m 46s (45000 45%) 2.8863\n",
            "3m 4s (50000 50%) 2.8141\n",
            "3m 23s (55000 55%) 2.7692\n",
            "3m 41s (60000 60%) 2.2108\n",
            "3m 59s (65000 65%) 1.7947\n",
            "4m 18s (70000 70%) 2.1070\n",
            "4m 36s (75000 75%) 2.3476\n",
            "4m 55s (80000 80%) 1.4672\n",
            "5m 13s (85000 85%) 2.5636\n",
            "5m 32s (90000 90%) 1.6605\n",
            "5m 50s (95000 95%) 1.9547\n",
            "6m 8s (100000 100%) 2.3678\n"
          ],
          "name": "stdout"
        }
      ]
    },
    {
      "metadata": {
        "id": "MucQCLO-nj7s",
        "colab_type": "code",
        "colab": {
          "base_uri": "https://localhost:8080/",
          "height": 364
        },
        "outputId": "84bccfd2-e903-49a0-ddaa-f276b992d569"
      },
      "cell_type": "code",
      "source": [
        "rnn_phidden_pchar = RNN_phidden_pchar(\n",
        "    n_letters, 128, n_letters)\n",
        "all_losses_phidden_pchar = []\n",
        "do_train(rnn_phidden_pchar, all_losses_phidden_pchar)"
      ],
      "execution_count": 20,
      "outputs": [
        {
          "output_type": "stream",
          "text": [
            "0m 18s (5000 5%) 2.9882\n",
            "0m 36s (10000 10%) 3.0549\n",
            "0m 54s (15000 15%) 2.0473\n",
            "1m 12s (20000 20%) 4.5419\n",
            "1m 30s (25000 25%) 3.3534\n",
            "1m 48s (30000 30%) 2.9023\n",
            "2m 6s (35000 35%) 2.9665\n",
            "2m 24s (40000 40%) 3.0133\n",
            "2m 42s (45000 45%) 2.5738\n",
            "3m 0s (50000 50%) 1.9352\n",
            "3m 18s (55000 55%) 2.7330\n",
            "3m 37s (60000 60%) 2.6059\n",
            "3m 55s (65000 65%) 2.4177\n",
            "4m 12s (70000 70%) 2.3204\n",
            "4m 30s (75000 75%) 2.7478\n",
            "4m 49s (80000 80%) 2.3153\n",
            "5m 7s (85000 85%) 2.4734\n",
            "5m 25s (90000 90%) 3.1380\n",
            "5m 43s (95000 95%) 2.5506\n",
            "6m 2s (100000 100%) 3.3026\n"
          ],
          "name": "stdout"
        }
      ]
    },
    {
      "metadata": {
        "id": "i_Uz0TIAnmEG",
        "colab_type": "code",
        "colab": {
          "base_uri": "https://localhost:8080/",
          "height": 364
        },
        "outputId": "25920f20-3e07-44d9-d3aa-102f8ac585b1"
      },
      "cell_type": "code",
      "source": [
        "rnn_phidden_category = RNN_phidden_category(\n",
        "    n_letters, 128, n_letters)\n",
        "all_losses_phidden_category = []\n",
        "do_train(rnn_phidden_category, all_losses_phidden_category)"
      ],
      "execution_count": 22,
      "outputs": [
        {
          "output_type": "stream",
          "text": [
            "0m 18s (5000 5%) 2.5482\n",
            "0m 36s (10000 10%) 2.7480\n",
            "0m 53s (15000 15%) 3.4603\n",
            "1m 11s (20000 20%) 2.5771\n",
            "1m 29s (25000 25%) 2.3708\n",
            "1m 47s (30000 30%) 2.3363\n",
            "2m 5s (35000 35%) 2.9422\n",
            "2m 24s (40000 40%) 3.0751\n",
            "2m 42s (45000 45%) 3.1855\n",
            "3m 0s (50000 50%) 2.7816\n",
            "3m 18s (55000 55%) 1.7097\n",
            "3m 36s (60000 60%) 3.0728\n",
            "3m 53s (65000 65%) 2.9020\n",
            "4m 12s (70000 70%) 2.1645\n",
            "4m 30s (75000 75%) 3.1454\n",
            "4m 48s (80000 80%) 2.3910\n",
            "5m 6s (85000 85%) 1.9533\n",
            "5m 24s (90000 90%) 2.2359\n",
            "5m 42s (95000 95%) 2.3405\n",
            "5m 59s (100000 100%) 2.7867\n"
          ],
          "name": "stdout"
        }
      ]
    },
    {
      "metadata": {
        "id": "MCNyXYsMnnOs",
        "colab_type": "code",
        "colab": {
          "base_uri": "https://localhost:8080/",
          "height": 364
        },
        "outputId": "3f5ef5e2-b3ea-48d9-a9ad-aad2230aa82e"
      },
      "cell_type": "code",
      "source": [
        "rnn_phidden = RNN_phidden(\n",
        "    n_letters, 128, n_letters)\n",
        "all_losses_phidden = []\n",
        "do_train(rnn_phidden, all_losses_phidden)"
      ],
      "execution_count": 23,
      "outputs": [
        {
          "output_type": "stream",
          "text": [
            "0m 17s (5000 5%) 3.2473\n",
            "0m 34s (10000 10%) 3.2283\n",
            "0m 51s (15000 15%) 2.7110\n",
            "1m 9s (20000 20%) 2.9242\n",
            "1m 26s (25000 25%) 2.5051\n",
            "1m 43s (30000 30%) 2.4999\n",
            "2m 0s (35000 35%) 3.1925\n",
            "2m 17s (40000 40%) 2.9240\n",
            "2m 34s (45000 45%) 2.5948\n",
            "2m 51s (50000 50%) 2.6693\n",
            "3m 8s (55000 55%) 2.3358\n",
            "3m 26s (60000 60%) 3.0185\n",
            "3m 43s (65000 65%) 2.2817\n",
            "4m 0s (70000 70%) 2.2181\n",
            "4m 17s (75000 75%) 2.6257\n",
            "4m 34s (80000 80%) 2.9874\n",
            "4m 51s (85000 85%) 2.7040\n",
            "5m 8s (90000 90%) 2.8835\n",
            "5m 25s (95000 95%) 2.8821\n",
            "5m 42s (100000 100%) 2.9199\n"
          ],
          "name": "stdout"
        }
      ]
    },
    {
      "metadata": {
        "id": "7thRg_SAnoI8",
        "colab_type": "code",
        "colab": {
          "base_uri": "https://localhost:8080/",
          "height": 337
        },
        "outputId": "9e15b0a3-4e60-489f-a347-38ea796e20fe"
      },
      "cell_type": "code",
      "source": [
        "plt.rcParams['figure.figsize'] = [10, 5]\n",
        "plt.figure()\n",
        "plt.plot(\n",
        "    all_losses_phidden_pchar_category,\n",
        "    label='prev hidden, prev char, and category')\n",
        "\n",
        "plt.plot(\n",
        "    all_losses_phidden_pchar,\n",
        "    label='prev hidden and prev char')\n",
        "\n",
        "plt.plot(\n",
        "    all_losses_phidden_category,\n",
        "    label='prev hidden and category')\n",
        "\n",
        "plt.plot(\n",
        "    all_losses_phidden,\n",
        "    label='prev hidden only')\n",
        "\n",
        "plt.legend()"
      ],
      "execution_count": 25,
      "outputs": [
        {
          "output_type": "execute_result",
          "data": {
            "text/plain": [
              "<matplotlib.legend.Legend at 0x7f739e4eee48>"
            ]
          },
          "metadata": {
            "tags": []
          },
          "execution_count": 25
        },
        {
          "output_type": "display_data",
          "data": {
            "image/png": "[encoded data removed]",
            "text/plain": [
              "<matplotlib.figure.Figure at 0x7f73f667d0b8>"
            ]
          },
          "metadata": {
            "tags": []
          }
        }
      ]
    }
  ]
}