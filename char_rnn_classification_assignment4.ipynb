{
  "nbformat": 4,
  "nbformat_minor": 0,
  "metadata": {
    "colab": {
      "name": "char_rnn_classification_assignment4.ipynb",
      "version": "0.3.2",
      "provenance": [],
      "collapsed_sections": [],
      "include_colab_link": true
    },
    "kernelspec": {
      "name": "python3",
      "language": "python",
      "display_name": "Python 3"
    },
    "accelerator": "GPU"
  },
  "cells": [
    {
      "cell_type": "markdown",
      "metadata": {
        "id": "view-in-github",
        "colab_type": "text"
      },
      "source": [
        "[View in Colaboratory](https://colab.research.google.com/github/abhinavrk/GoogleColabMusings/blob/master/char_rnn_classification_assignment4.ipynb)"
      ]
    },
    {
      "metadata": {
        "id": "fZoY6RO2x8n0",
        "colab_type": "code",
        "colab": {}
      },
      "cell_type": "code",
      "source": [
        "loaded = False\n",
        "\n",
        "if not loaded:\n",
        "  # http://pytorch.org/\n",
        "  from os import path\n",
        "  from wheel.pep425tags import get_abbr_impl, get_impl_ver, get_abi_tag\n",
        "  platform = '{}{}-{}'.format(get_abbr_impl(), get_impl_ver(), get_abi_tag())\n",
        "\n",
        "  accelerator = 'cu80' if path.exists('/opt/bin/nvidia-smi') else 'cpu'\n",
        "\n",
        "  !pip install -q http://download.pytorch.org/whl/{accelerator}/torch-0.4.0-{platform}-linux_x86_64.whl torchvision\n",
        "\n",
        "  import torch\n",
        "  loaded = True"
      ],
      "execution_count": 0,
      "outputs": []
    },
    {
      "metadata": {
        "id": "nxeLtKjVyJWv",
        "colab_type": "code",
        "colab": {
          "base_uri": "https://localhost:8080/",
          "height": 243
        },
        "outputId": "bc2c5ae0-daab-4233-8062-db4a0fd7d80a"
      },
      "cell_type": "code",
      "source": [
        "# !wget https://download.pytorch.org/tutorial/data.zip\n",
        "# !unzip data.zip"
      ],
      "execution_count": 16,
      "outputs": [
        {
          "output_type": "stream",
          "text": [
            "--2018-07-18 20:08:49--  https://download.pytorch.org/tutorial/data.zip\r\n",
            "Resolving download.pytorch.org (download.pytorch.org)... 143.204.101.39, 143.204.101.114, 143.204.101.64, ...\n",
            "Connecting to download.pytorch.org (download.pytorch.org)|143.204.101.39|:443... connected.\n",
            "HTTP request sent, awaiting response... 200 OK\n",
            "Length: 2882130 (2.7M) [application/zip]\n",
            "Saving to: ‘data.zip.1’\n",
            "\n",
            "data.zip.1          100%[===================>]   2.75M  --.-KB/s    in 0.05s   \n",
            "\n",
            "2018-07-18 20:08:49 (53.7 MB/s) - ‘data.zip.1’ saved [2882130/2882130]\n",
            "\n",
            "Archive:  data.zip\n",
            "replace data/eng-fra.txt? [y]es, [n]o, [A]ll, [N]one, [r]ename: ^C\n"
          ],
          "name": "stdout"
        }
      ]
    },
    {
      "metadata": {
        "id": "aZnYK8MCxaxo",
        "colab_type": "code",
        "colab": {}
      },
      "cell_type": "code",
      "source": [
        "%matplotlib inline"
      ],
      "execution_count": 0,
      "outputs": []
    },
    {
      "metadata": {
        "id": "VCIUNUEJxax4",
        "colab_type": "code",
        "colab": {
          "base_uri": "https://localhost:8080/",
          "height": 72
        },
        "outputId": "05d99a9c-d85b-4fe4-b548-c9fa699a645d"
      },
      "cell_type": "code",
      "source": [
        "from __future__ import unicode_literals, print_function, division\n",
        "from io import open\n",
        "import glob\n",
        "import os\n",
        "\n",
        "def findFiles(path): return glob.glob(path)\n",
        "\n",
        "print(findFiles('data/names/*.txt'))\n",
        "\n",
        "import unicodedata\n",
        "import string\n",
        "\n",
        "all_letters = string.ascii_letters + \" .,;'\"\n",
        "n_letters = len(all_letters)\n",
        "\n",
        "# Turn a Unicode string to plain ASCII, thanks to http://stackoverflow.com/a/518232/2809427\n",
        "def unicodeToAscii(s):\n",
        "    return ''.join(\n",
        "        c for c in unicodedata.normalize('NFD', s)\n",
        "        if unicodedata.category(c) != 'Mn'\n",
        "        and c in all_letters\n",
        "    )\n",
        "\n",
        "print(unicodeToAscii('Ślusàrski'))\n",
        "\n",
        "# Build the category_lines dictionary, a list of names per language\n",
        "category_lines = {}\n",
        "all_categories = []\n",
        "\n",
        "# Read a file and split into lines\n",
        "def readLines(filename):\n",
        "    lines = open(filename, encoding='utf-8').read().strip().split('\\n')\n",
        "    return [unicodeToAscii(line) for line in lines]\n",
        "\n",
        "for filename in findFiles('data/names/*.txt'):\n",
        "    category = os.path.splitext(os.path.basename(filename))[0]\n",
        "    all_categories.append(category)\n",
        "    lines = readLines(filename)\n",
        "    category_lines[category] = lines\n",
        "\n",
        "n_categories = len(all_categories)"
      ],
      "execution_count": 18,
      "outputs": [
        {
          "output_type": "stream",
          "text": [
            "['data/names/Dutch.txt', 'data/names/Japanese.txt', 'data/names/Vietnamese.txt', 'data/names/Irish.txt', 'data/names/Korean.txt', 'data/names/Greek.txt', 'data/names/Russian.txt', 'data/names/Chinese.txt', 'data/names/French.txt', 'data/names/Polish.txt', 'data/names/Italian.txt', 'data/names/Czech.txt', 'data/names/Scottish.txt', 'data/names/Spanish.txt', 'data/names/Portuguese.txt', 'data/names/English.txt', 'data/names/Arabic.txt', 'data/names/German.txt']\n",
            "Slusarski\n"
          ],
          "name": "stdout"
        }
      ]
    },
    {
      "metadata": {
        "id": "totCGjt8xayT",
        "colab_type": "code",
        "colab": {
          "base_uri": "https://localhost:8080/",
          "height": 121
        },
        "outputId": "95d53759-e43c-4c58-f5a3-a5fed879cb5d"
      },
      "cell_type": "code",
      "source": [
        "import torch\n",
        "\n",
        "# Find letter index from all_letters, e.g. \"a\" = 0\n",
        "def letterToIndex(letter):\n",
        "    return all_letters.find(letter)\n",
        "\n",
        "# Just for demonstration, turn a letter into a <1 x n_letters> Tensor\n",
        "def letterToTensor(letter):\n",
        "    tensor = torch.zeros(1, n_letters)\n",
        "    tensor[0][letterToIndex(letter)] = 1\n",
        "    return tensor\n",
        "\n",
        "# Turn a line into a <line_length x 1 x n_letters>,\n",
        "# or an array of one-hot letter vectors\n",
        "def lineToTensor(line):\n",
        "    tensor = torch.zeros(len(line), 1, n_letters)\n",
        "    for li, letter in enumerate(line):\n",
        "        tensor[li][0][letterToIndex(letter)] = 1\n",
        "    return tensor\n",
        "\n",
        "print(letterToTensor('J'))\n",
        "\n",
        "print(lineToTensor('Jones').size())"
      ],
      "execution_count": 19,
      "outputs": [
        {
          "output_type": "stream",
          "text": [
            "tensor([[ 0.,  0.,  0.,  0.,  0.,  0.,  0.,  0.,  0.,  0.,  0.,  0.,\n",
            "          0.,  0.,  0.,  0.,  0.,  0.,  0.,  0.,  0.,  0.,  0.,  0.,\n",
            "          0.,  0.,  0.,  0.,  0.,  0.,  0.,  0.,  0.,  0.,  0.,  1.,\n",
            "          0.,  0.,  0.,  0.,  0.,  0.,  0.,  0.,  0.,  0.,  0.,  0.,\n",
            "          0.,  0.,  0.,  0.,  0.,  0.,  0.,  0.,  0.]])\n",
            "torch.Size([5, 1, 57])\n"
          ],
          "name": "stdout"
        }
      ]
    },
    {
      "metadata": {
        "id": "VfsOO6Ifxayc",
        "colab_type": "code",
        "colab": {}
      },
      "cell_type": "code",
      "source": [
        "import torch.nn as nn\n",
        "\n",
        "class RNN_linear(nn.Module):\n",
        "    def __init__(self, input_size, hidden_size, output_size):\n",
        "        super(RNN_linear, self).__init__()\n",
        "\n",
        "        self.hidden_size = hidden_size\n",
        "\n",
        "        self.i2h = nn.Linear(input_size + hidden_size, hidden_size)\n",
        "        self.i2o = nn.Linear(input_size + hidden_size, output_size)\n",
        "        self.softmax = nn.LogSoftmax(dim=1)\n",
        "\n",
        "    def forward(self, input, hidden):\n",
        "        combined = torch.cat((input, hidden), 1)\n",
        "        hidden = self.i2h(combined)\n",
        "        output = self.i2o(combined)\n",
        "        output = self.softmax(output)\n",
        "        return output, hidden\n",
        "\n",
        "    def initHidden(self):\n",
        "        return torch.zeros(1, self.hidden_size)"
      ],
      "execution_count": 0,
      "outputs": []
    },
    {
      "metadata": {
        "id": "Haj71T6Y9Bp_",
        "colab_type": "code",
        "colab": {}
      },
      "cell_type": "code",
      "source": [
        "import torch.nn as nn\n",
        "\n",
        "class RNN_gru(nn.Module):\n",
        "    def __init__(self, input_size, hidden_size, output_size):\n",
        "        super(RNN_gru, self).__init__()\n",
        "\n",
        "        self.hidden_size = hidden_size\n",
        "\n",
        "        self.i2h = nn.GRU(input_size + hidden_size, hidden_size)\n",
        "        self.i2o = nn.GRU(input_size + hidden_size, output_size)\n",
        "        self.softmax = nn.LogSoftmax(dim=1)\n",
        "\n",
        "    def forward(self, input, hidden):\n",
        "        combined = torch.cat((input, hidden), 1)\n",
        "        hidden = self.i2h(combined.unsqueeze(0))\n",
        "        output = self.i2o(combined.unsqueeze(0))\n",
        "        output = self.softmax(output[0].squeeze(0))\n",
        "        return output, hidden[0].squeeze(0)\n",
        "\n",
        "    def initHidden(self):\n",
        "        return torch.zeros(1, self.hidden_size)"
      ],
      "execution_count": 0,
      "outputs": []
    },
    {
      "metadata": {
        "id": "4zpOMc46TdbO",
        "colab_type": "code",
        "colab": {}
      },
      "cell_type": "code",
      "source": [
        "import torch.nn as nn\n",
        "\n",
        "class RNN_lstm(nn.Module):\n",
        "    def __init__(self, input_size, hidden_size, output_size):\n",
        "        super(RNN_lstm, self).__init__()\n",
        "\n",
        "        self.hidden_size = hidden_size\n",
        "\n",
        "        self.i2h = nn.LSTM(input_size + hidden_size, hidden_size)\n",
        "        self.i2o = nn.LSTM(input_size + hidden_size, output_size)\n",
        "        self.softmax = nn.LogSoftmax(dim=1)\n",
        "\n",
        "    def forward(self, input, hidden):\n",
        "        combined = torch.cat((input, hidden), 1)\n",
        "        hidden = self.i2h(combined.unsqueeze(0))\n",
        "        output = self.i2o(combined.unsqueeze(0))\n",
        "        output = self.softmax(output[0].squeeze(0))\n",
        "        return output, hidden[0].squeeze(0)\n",
        "\n",
        "    def initHidden(self):\n",
        "        return torch.zeros(1, self.hidden_size)"
      ],
      "execution_count": 0,
      "outputs": []
    },
    {
      "metadata": {
        "id": "pJNmEKZhxazP",
        "colab_type": "code",
        "colab": {}
      },
      "cell_type": "code",
      "source": [
        "import random\n",
        "\n",
        "def randomChoice(l):\n",
        "    return l[random.randint(0, len(l) - 1)]\n",
        "\n",
        "def randomTrainingExample():\n",
        "    category = randomChoice(all_categories)\n",
        "    line = randomChoice(category_lines[category])\n",
        "    category_tensor = torch.tensor([all_categories.index(category)], dtype=torch.long)\n",
        "    line_tensor = lineToTensor(line)\n",
        "    return category, line, category_tensor, line_tensor"
      ],
      "execution_count": 0,
      "outputs": []
    },
    {
      "metadata": {
        "id": "8kkYaG3sxazE",
        "colab_type": "code",
        "colab": {}
      },
      "cell_type": "code",
      "source": [
        "def categoryFromOutput(output):\n",
        "    top_n, top_i = output.topk(1)\n",
        "    category_i = top_i[0].item()\n",
        "    return all_categories[category_i], category_i\n"
      ],
      "execution_count": 0,
      "outputs": []
    },
    {
      "metadata": {
        "id": "40nzwI1Wxazl",
        "colab_type": "code",
        "colab": {}
      },
      "cell_type": "code",
      "source": [
        "learning_rate = 0.005 # If you set this too high, it might explode. If too low, it might not learn\n",
        "\n",
        "def train(rnn, category_tensor, line_tensor):\n",
        "    hidden = rnn.initHidden()\n",
        "\n",
        "    rnn.zero_grad()\n",
        "\n",
        "    for i in range(line_tensor.size()[0]):\n",
        "        output, hidden = rnn(line_tensor[i], hidden)\n",
        "\n",
        "    loss = criterion(output, category_tensor)\n",
        "    loss.backward()\n",
        "\n",
        "    # Add parameters' gradients to their values, multiplied by learning rate\n",
        "    for p in rnn.parameters():\n",
        "        p.data.add_(-learning_rate, p.grad.data)\n",
        "\n",
        "    return output, loss.item()"
      ],
      "execution_count": 0,
      "outputs": []
    },
    {
      "metadata": {
        "id": "cq65KE9bxazZ",
        "colab_type": "code",
        "colab": {}
      },
      "cell_type": "code",
      "source": [
        "criterion = nn.NLLLoss()"
      ],
      "execution_count": 0,
      "outputs": []
    },
    {
      "metadata": {
        "id": "pdiIvVjWxazw",
        "colab_type": "code",
        "colab": {}
      },
      "cell_type": "code",
      "source": [
        "def do_train(rnn, all_losses):\n",
        "\n",
        "  import time\n",
        "  import math\n",
        "\n",
        "  n_iters = 100000\n",
        "  print_every = 5000\n",
        "  plot_every = 1000\n",
        "\n",
        "\n",
        "\n",
        "  # Keep track of losses for plotting\n",
        "  current_loss = 0\n",
        "\n",
        "  def timeSince(since):\n",
        "      now = time.time()\n",
        "      s = now - since\n",
        "      m = math.floor(s / 60)\n",
        "      s -= m * 60\n",
        "      return '%dm %ds' % (m, s)\n",
        "\n",
        "  start = time.time()\n",
        "\n",
        "  for iter in range(1, n_iters + 1):\n",
        "      category, line, category_tensor, line_tensor = randomTrainingExample()\n",
        "      output, loss = train(rnn, category_tensor, line_tensor)\n",
        "      current_loss += loss\n",
        "\n",
        "      # Print iter number, loss, name and guess\n",
        "      if iter % print_every == 0:\n",
        "          guess, guess_i = categoryFromOutput(output)\n",
        "          correct = '✓' if guess == category else '✗ (%s)' % category\n",
        "          print('%d %d%% (%s) %.4f %s / %s %s' % (iter, iter / n_iters * 100, timeSince(start), loss, line, guess, correct))\n",
        "\n",
        "      # Add current loss avg to list of losses\n",
        "      if iter % plot_every == 0:\n",
        "          all_losses.append(current_loss / plot_every)\n",
        "          current_loss = 0"
      ],
      "execution_count": 0,
      "outputs": []
    },
    {
      "metadata": {
        "id": "lo2fGBwqxayr",
        "colab_type": "code",
        "colab": {}
      },
      "cell_type": "code",
      "source": [
        "n_hidden = 128\n",
        "rnn_linear = RNN_linear(n_letters, n_hidden, n_categories)\n",
        "rnn_gru = RNN_gru(n_letters, n_hidden, n_categories)\n",
        "rnn_lstm = RNN_lstm(n_letters, n_hidden, n_categories)\n",
        "# input_linear = letterToTensor('A')\n",
        "# hidden_linear =torch.zeros(1, n_hidden)\n",
        "\n",
        "# output_linear, next_hidden_linear = rnn_linear(input_linear, hidden_linear)"
      ],
      "execution_count": 0,
      "outputs": []
    },
    {
      "metadata": {
        "id": "C-Vod05txaz1",
        "colab_type": "code",
        "colab": {
          "base_uri": "https://localhost:8080/",
          "height": 1324
        },
        "outputId": "dfb1ed2e-bfcc-4072-fef7-ba9bf70f28c6"
      },
      "cell_type": "code",
      "source": [
        "import matplotlib.pyplot as plt\n",
        "\n",
        "all_losses_linear = []\n",
        "all_losses_gru = []\n",
        "all_losses_lstm = []\n",
        "\n",
        "\n",
        "do_train(rnn_linear, all_losses_linear)\n",
        "do_train(rnn_gru, all_losses_gru)\n",
        "do_train(rnn_lstm, all_losses_lstm)\n",
        "\n",
        "\n",
        "plt.figure()\n",
        "plt.plot(all_losses_linear, label='Linear hidden units')\n",
        "plt.plot(all_losses_gru, label='GRU hidden units')\n",
        "plt.plot(all_losses_lstm, label='LSTM hidden units')\n",
        "plt.legend()"
      ],
      "execution_count": 106,
      "outputs": [
        {
          "output_type": "stream",
          "text": [
            "5000 5% (0m 7s) 2.0456 Imada / Japanese ✓\n",
            "10000 10% (0m 15s) 2.7171 Sinagra / Japanese ✗ (Italian)\n",
            "15000 15% (0m 22s) 4.0266 Jones / Dutch ✗ (Scottish)\n",
            "20000 20% (0m 30s) 3.6010 Kurmochi / Italian ✗ (Japanese)\n",
            "25000 25% (0m 37s) 0.2426 Vedikhov / Russian ✓\n",
            "30000 30% (0m 45s) 1.6867 Skeril / Czech ✓\n",
            "35000 35% (0m 53s) 2.9388 Cham / Vietnamese ✗ (Arabic)\n",
            "40000 40% (1m 1s) 2.3938 Lowe / Japanese ✗ (German)\n",
            "45000 45% (1m 8s) 1.9471 Obando / Italian ✗ (Spanish)\n",
            "50000 50% (1m 16s) 1.0844 Gu / Vietnamese ✗ (Korean)\n",
            "55000 55% (1m 23s) 2.9769 Zuraw / Vietnamese ✗ (Polish)\n",
            "60000 60% (1m 31s) 0.1372 Biancardi / Italian ✓\n",
            "65000 65% (1m 38s) 0.6719 Rzehak / Czech ✓\n",
            "70000 70% (1m 46s) 2.8042 Hawes / Arabic ✗ (English)\n",
            "75000 75% (1m 53s) 0.0862 Dickson / Scottish ✓\n",
            "80000 80% (2m 1s) 0.0549 Bahovtsev / Russian ✓\n",
            "85000 85% (2m 8s) 0.1126 Davletov / Russian ✓\n",
            "90000 90% (2m 16s) 0.5189 Kusatsu / Japanese ✓\n",
            "95000 95% (2m 23s) 0.4356 Echevarria / Spanish ✓\n",
            "100000 100% (2m 31s) 0.3652 Zientek / Polish ✓\n",
            "5000 5% (0m 34s) 2.9946 Millward / Spanish ✗ (English)\n",
            "10000 10% (1m 9s) 2.4631 Hagias / Greek ✓\n",
            "15000 15% (1m 44s) 2.6760 Tsai  / Korean ✓\n",
            "20000 20% (2m 19s) 2.2476 O'Hanlon / Irish ✓\n",
            "25000 25% (2m 54s) 2.3144 Mifsud / Arabic ✓\n",
            "30000 30% (3m 29s) 3.2765 Jordan / Irish ✗ (Polish)\n",
            "35000 35% (4m 3s) 1.8087 Chou / Korean ✓\n",
            "40000 40% (4m 37s) 1.8037 Bai / Chinese ✓\n",
            "45000 45% (5m 12s) 2.2054 Zaruba / Japanese ✗ (Czech)\n",
            "50000 50% (5m 46s) 3.1018 Tsakh / Arabic ✗ (Russian)\n",
            "55000 55% (6m 21s) 1.9730 Velazquez / German ✗ (Spanish)\n",
            "60000 60% (6m 56s) 1.7382 Fung / Vietnamese ✗ (Chinese)\n",
            "65000 65% (7m 31s) 1.6983 Wechsler / German ✓\n",
            "70000 70% (8m 6s) 1.3353 Vorotnikov / Russian ✓\n",
            "75000 75% (8m 41s) 3.0352 Tosell / English ✗ (Spanish)\n",
            "80000 80% (9m 16s) 2.2613 Nose / English ✗ (Japanese)\n",
            "85000 85% (9m 51s) 1.6961 Mai / Chinese ✗ (Vietnamese)\n",
            "90000 90% (10m 27s) 1.7697 Amari / Japanese ✗ (Arabic)\n",
            "95000 95% (11m 2s) 1.6784 Sun / Chinese ✗ (Korean)\n",
            "100000 100% (11m 37s) 1.6103 Quang / Vietnamese ✓\n",
            "5000 5% (0m 37s) 2.9139 Camfrlova / Arabic ✗ (Czech)\n",
            "10000 10% (1m 15s) 2.8352 Nguyen / Irish ✗ (Vietnamese)\n",
            "15000 15% (1m 52s) 2.7300 Varvitsiotes / Greek ✓\n",
            "20000 20% (2m 29s) 2.8238 Acquafredda / Japanese ✗ (Italian)\n",
            "25000 25% (3m 7s) 2.8275 Asch / Vietnamese ✗ (Dutch)\n",
            "30000 30% (3m 44s) 2.6897 Pasternak / Czech ✗ (Polish)\n",
            "35000 35% (4m 22s) 2.8725 Hartmann / Irish ✗ (German)\n",
            "40000 40% (4m 59s) 2.8149 Hanania / Japanese ✗ (Arabic)\n",
            "45000 45% (5m 37s) 2.7165 Koolen / Irish ✗ (Dutch)\n",
            "50000 50% (6m 14s) 2.8285 Kolbe / French ✗ (German)\n",
            "55000 55% (6m 52s) 2.1758 Hadjiyianakies / Greek ✓\n",
            "60000 60% (7m 29s) 2.5497 Granger / German ✗ (French)\n",
            "65000 65% (8m 6s) 2.8008 Shammas / Greek ✗ (Arabic)\n",
            "70000 70% (8m 43s) 2.9582 Desjardins / Greek ✗ (French)\n",
            "75000 75% (9m 20s) 2.2061 Monet / French ✓\n",
            "80000 80% (9m 57s) 2.5822 Steward / Arabic ✗ (English)\n",
            "85000 85% (10m 35s) 2.1316 Naomhan / Irish ✓\n",
            "90000 90% (11m 12s) 2.0691 Chau / Vietnamese ✓\n",
            "95000 95% (11m 49s) 2.2855 Castro / Portuguese ✗ (Spanish)\n",
            "100000 100% (12m 27s) 3.2974 Serafin / Irish ✗ (Polish)\n"
          ],
          "name": "stdout"
        },
        {
          "output_type": "execute_result",
          "data": {
            "text/plain": [
              "<matplotlib.legend.Legend at 0x7f363ff0a9e8>"
            ]
          },
          "metadata": {
            "tags": []
          },
          "execution_count": 106
        },
        {
          "output_type": "display_data",
          "data": {
            "image/png": "[encoded data removed]",
            "text/plain": [
              "<matplotlib.figure.Figure at 0x7f363ff0a7f0>"
            ]
          },
          "metadata": {
            "tags": []
          }
        }
      ]
    }
  ]
}