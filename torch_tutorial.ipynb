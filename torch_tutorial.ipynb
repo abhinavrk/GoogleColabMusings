{
  "nbformat": 4,
  "nbformat_minor": 0,
  "metadata": {
    "colab": {
      "name": "torch_tutorial.ipynb",
      "version": "0.3.2",
      "provenance": [],
      "include_colab_link": true
    },
    "kernelspec": {
      "name": "python3",
      "display_name": "Python 3"
    },
    "accelerator": "GPU"
  },
  "cells": [
    {
      "cell_type": "markdown",
      "metadata": {
        "id": "view-in-github",
        "colab_type": "text"
      },
      "source": [
        "[View in Colaboratory](https://colab.research.google.com/github/abhinavrk/GoogleColabMusings/blob/master/torch_tutorial.ipynb)"
      ]
    },
    {
      "metadata": {
        "id": "wT3KhYcSSJRi",
        "colab_type": "code",
        "colab": {}
      },
      "cell_type": "code",
      "source": [
        "# http://pytorch.org/\n",
        "from os import path\n",
        "from wheel.pep425tags import get_abbr_impl, get_impl_ver, get_abi_tag\n",
        "platform = '{}{}-{}'.format(get_abbr_impl(), get_impl_ver(), get_abi_tag())\n",
        "\n",
        "accelerator = 'cu80' if path.exists('/opt/bin/nvidia-smi') else 'cpu'\n",
        "\n",
        "!pip install -q http://download.pytorch.org/whl/{accelerator}/torch-0.4.0-{platform}-linux_x86_64.whl torchvision\n",
        "\n",
        "import torch"
      ],
      "execution_count": 0,
      "outputs": []
    },
    {
      "metadata": {
        "id": "RdO710bpSflb",
        "colab_type": "code",
        "colab": {
          "base_uri": "https://localhost:8080/",
          "height": 121
        },
        "outputId": "357a88af-1ab3-4ee4-d8d9-b79f32f95a74"
      },
      "cell_type": "code",
      "source": [
        "x = torch.empty(5, 3)\n",
        "print(x)"
      ],
      "execution_count": 2,
      "outputs": [
        {
          "output_type": "stream",
          "text": [
            "tensor(1.00000e-37 *\n",
            "       [[ 2.7389,  0.0000,  0.0000],\n",
            "        [ 0.0000,  0.0000,  0.0000],\n",
            "        [ 0.0000,  0.0000,  0.0000],\n",
            "        [ 0.0000,  0.0000,  0.0000],\n",
            "        [ 0.0000,  0.0000,  0.0000]])\n"
          ],
          "name": "stdout"
        }
      ]
    },
    {
      "metadata": {
        "id": "wUIbUUjfTXdZ",
        "colab_type": "code",
        "colab": {
          "base_uri": "https://localhost:8080/",
          "height": 104
        },
        "outputId": "6f641a2a-fad5-4b12-f462-6149fef807e8"
      },
      "cell_type": "code",
      "source": [
        "x = torch.rand(5, 3)\n",
        "print(x)\n"
      ],
      "execution_count": 4,
      "outputs": [
        {
          "output_type": "stream",
          "text": [
            "tensor([[ 0.8858,  0.7787,  0.2055],\n",
            "        [ 0.7969,  0.9603,  0.5067],\n",
            "        [ 0.1421,  0.0221,  0.6333],\n",
            "        [ 0.8726,  0.3720,  0.0765],\n",
            "        [ 0.1968,  0.1332,  0.4348]])\n"
          ],
          "name": "stdout"
        }
      ]
    },
    {
      "metadata": {
        "id": "VNMwgtZNTiqt",
        "colab_type": "code",
        "colab": {
          "base_uri": "https://localhost:8080/",
          "height": 104
        },
        "outputId": "1a81c168-47fd-470f-8175-bffabdff894f"
      },
      "cell_type": "code",
      "source": [
        "x = torch.zeros(5, 3, dtype=torch.long)\n",
        "print(x)"
      ],
      "execution_count": 6,
      "outputs": [
        {
          "output_type": "stream",
          "text": [
            "tensor([[ 0,  0,  0],\n",
            "        [ 0,  0,  0],\n",
            "        [ 0,  0,  0],\n",
            "        [ 0,  0,  0],\n",
            "        [ 0,  0,  0]])\n"
          ],
          "name": "stdout"
        }
      ]
    },
    {
      "metadata": {
        "id": "zsi8J4jGTj8e",
        "colab_type": "code",
        "colab": {
          "base_uri": "https://localhost:8080/",
          "height": 34
        },
        "outputId": "8260f448-91cd-417c-cdb5-ea9be6d3ef12"
      },
      "cell_type": "code",
      "source": [
        "x = torch.tensor([5.5, 3])\n",
        "print(x)"
      ],
      "execution_count": 7,
      "outputs": [
        {
          "output_type": "stream",
          "text": [
            "tensor([ 5.5000,  3.0000])\n"
          ],
          "name": "stdout"
        }
      ]
    },
    {
      "metadata": {
        "id": "140qSa-oTmNB",
        "colab_type": "code",
        "colab": {
          "base_uri": "https://localhost:8080/",
          "height": 191
        },
        "outputId": "b269c7d3-ab98-44e7-dbe9-5269aace5615"
      },
      "cell_type": "code",
      "source": [
        "x = x.new_ones(5, 3, dtype=torch.double)      # new_* methods take in sizes\n",
        "print(x)\n",
        "\n",
        "x = torch.randn_like(x, dtype=torch.float)    # override dtype!\n",
        "print(x)                                      # result has the same size"
      ],
      "execution_count": 8,
      "outputs": [
        {
          "output_type": "stream",
          "text": [
            "tensor([[ 1.,  1.,  1.],\n",
            "        [ 1.,  1.,  1.],\n",
            "        [ 1.,  1.,  1.],\n",
            "        [ 1.,  1.,  1.],\n",
            "        [ 1.,  1.,  1.]], dtype=torch.float64)\n",
            "tensor([[ 1.7475,  0.9172, -0.9811],\n",
            "        [-0.8624, -0.6107, -2.1555],\n",
            "        [ 0.1523, -0.9467,  0.0952],\n",
            "        [ 0.2686, -1.2228, -0.4925],\n",
            "        [ 0.1598,  0.8110,  0.7318]])\n"
          ],
          "name": "stdout"
        }
      ]
    },
    {
      "metadata": {
        "id": "4IS8gYSKTrk3",
        "colab_type": "code",
        "colab": {
          "base_uri": "https://localhost:8080/",
          "height": 34
        },
        "outputId": "4a66ad36-ddae-4863-ad8f-cc930d6b5d72"
      },
      "cell_type": "code",
      "source": [
        "print(x.size())"
      ],
      "execution_count": 9,
      "outputs": [
        {
          "output_type": "stream",
          "text": [
            "torch.Size([5, 3])\n"
          ],
          "name": "stdout"
        }
      ]
    },
    {
      "metadata": {
        "id": "moCMg3SSTtcK",
        "colab_type": "code",
        "colab": {
          "base_uri": "https://localhost:8080/",
          "height": 104
        },
        "outputId": "a16d095e-1717-4125-a8a4-0e313b7b9116"
      },
      "cell_type": "code",
      "source": [
        "y = torch.rand(5, 3)\n",
        "print(x + y)"
      ],
      "execution_count": 10,
      "outputs": [
        {
          "output_type": "stream",
          "text": [
            "tensor([[ 2.0146,  0.9481,  0.0142],\n",
            "        [-0.6639,  0.2515, -1.6063],\n",
            "        [ 0.7273, -0.1162,  0.8218],\n",
            "        [ 0.5404, -0.9030,  0.2436],\n",
            "        [ 0.2292,  1.4945,  0.8081]])\n"
          ],
          "name": "stdout"
        }
      ]
    },
    {
      "metadata": {
        "id": "ImecTs0ZTx8v",
        "colab_type": "code",
        "colab": {
          "base_uri": "https://localhost:8080/",
          "height": 104
        },
        "outputId": "a2f71789-c9c6-48b4-eb40-b67ddc506933"
      },
      "cell_type": "code",
      "source": [
        "print(torch.add(x, y))"
      ],
      "execution_count": 11,
      "outputs": [
        {
          "output_type": "stream",
          "text": [
            "tensor([[ 2.0146,  0.9481,  0.0142],\n",
            "        [-0.6639,  0.2515, -1.6063],\n",
            "        [ 0.7273, -0.1162,  0.8218],\n",
            "        [ 0.5404, -0.9030,  0.2436],\n",
            "        [ 0.2292,  1.4945,  0.8081]])\n"
          ],
          "name": "stdout"
        }
      ]
    },
    {
      "metadata": {
        "id": "s-OZwHN-T0rn",
        "colab_type": "code",
        "colab": {
          "base_uri": "https://localhost:8080/",
          "height": 104
        },
        "outputId": "3f865d16-7e09-49ef-bad3-187157e81dd1"
      },
      "cell_type": "code",
      "source": [
        "result = torch.empty(5, 3)\n",
        "torch.add(x, y, out=result)\n",
        "print(result)"
      ],
      "execution_count": 12,
      "outputs": [
        {
          "output_type": "stream",
          "text": [
            "tensor([[ 2.0146,  0.9481,  0.0142],\n",
            "        [-0.6639,  0.2515, -1.6063],\n",
            "        [ 0.7273, -0.1162,  0.8218],\n",
            "        [ 0.5404, -0.9030,  0.2436],\n",
            "        [ 0.2292,  1.4945,  0.8081]])\n"
          ],
          "name": "stdout"
        }
      ]
    },
    {
      "metadata": {
        "id": "ym7ut35uT7HR",
        "colab_type": "code",
        "colab": {
          "base_uri": "https://localhost:8080/",
          "height": 104
        },
        "outputId": "783ae178-06e8-4c3f-da4d-fd28f4af9c5e"
      },
      "cell_type": "code",
      "source": [
        "# adds x to y\n",
        "y.add_(x)\n",
        "print(y)"
      ],
      "execution_count": 13,
      "outputs": [
        {
          "output_type": "stream",
          "text": [
            "tensor([[ 2.0146,  0.9481,  0.0142],\n",
            "        [-0.6639,  0.2515, -1.6063],\n",
            "        [ 0.7273, -0.1162,  0.8218],\n",
            "        [ 0.5404, -0.9030,  0.2436],\n",
            "        [ 0.2292,  1.4945,  0.8081]])\n"
          ],
          "name": "stdout"
        }
      ]
    },
    {
      "metadata": {
        "id": "WoTHzjdwT-SP",
        "colab_type": "code",
        "colab": {
          "base_uri": "https://localhost:8080/",
          "height": 34
        },
        "outputId": "cc7391e3-4958-4192-db51-94ed2430bfbe"
      },
      "cell_type": "code",
      "source": [
        "print(x[:, 1])"
      ],
      "execution_count": 14,
      "outputs": [
        {
          "output_type": "stream",
          "text": [
            "tensor([ 0.9172, -0.6107, -0.9467, -1.2228,  0.8110])\n"
          ],
          "name": "stdout"
        }
      ]
    },
    {
      "metadata": {
        "id": "3P2eMRGvUBPJ",
        "colab_type": "code",
        "colab": {
          "base_uri": "https://localhost:8080/",
          "height": 34
        },
        "outputId": "c82e04ca-0775-4e48-b25f-128bf0e828ac"
      },
      "cell_type": "code",
      "source": [
        "x = torch.randn(4, 4)\n",
        "y = x.view(16)\n",
        "z = x.view(-1, 8)  # the size -1 is inferred from other dimensions\n",
        "print(x.size(), y.size(), z.size())"
      ],
      "execution_count": 15,
      "outputs": [
        {
          "output_type": "stream",
          "text": [
            "torch.Size([4, 4]) torch.Size([16]) torch.Size([2, 8])\n"
          ],
          "name": "stdout"
        }
      ]
    },
    {
      "metadata": {
        "id": "MCvd-68KUIae",
        "colab_type": "code",
        "colab": {
          "base_uri": "https://localhost:8080/",
          "height": 34
        },
        "outputId": "2f73eb6f-a75a-49bc-b483-edd7b1d48866"
      },
      "cell_type": "code",
      "source": [
        "a = torch.ones(5)\n",
        "print(a)"
      ],
      "execution_count": 16,
      "outputs": [
        {
          "output_type": "stream",
          "text": [
            "tensor([ 1.,  1.,  1.,  1.,  1.])\n"
          ],
          "name": "stdout"
        }
      ]
    },
    {
      "metadata": {
        "id": "NLPdNqPEURRA",
        "colab_type": "code",
        "colab": {
          "base_uri": "https://localhost:8080/",
          "height": 34
        },
        "outputId": "f719d6ed-aab5-466b-df6d-329bdf36b8f7"
      },
      "cell_type": "code",
      "source": [
        "b = a.numpy()\n",
        "print(b)"
      ],
      "execution_count": 17,
      "outputs": [
        {
          "output_type": "stream",
          "text": [
            "[1. 1. 1. 1. 1.]\n"
          ],
          "name": "stdout"
        }
      ]
    },
    {
      "metadata": {
        "id": "UwiA-FOtUTNc",
        "colab_type": "code",
        "colab": {
          "base_uri": "https://localhost:8080/",
          "height": 52
        },
        "outputId": "60ea8fd5-eb4e-4839-c4a9-d590068c5ee0"
      },
      "cell_type": "code",
      "source": [
        "a.add_(1)\n",
        "print(a)\n",
        "print(b)"
      ],
      "execution_count": 18,
      "outputs": [
        {
          "output_type": "stream",
          "text": [
            "tensor([ 2.,  2.,  2.,  2.,  2.])\n",
            "[2. 2. 2. 2. 2.]\n"
          ],
          "name": "stdout"
        }
      ]
    },
    {
      "metadata": {
        "id": "nb9-v_6LUVrK",
        "colab_type": "code",
        "colab": {
          "base_uri": "https://localhost:8080/",
          "height": 52
        },
        "outputId": "b321688e-0a9f-4987-b79a-9b8447298ba8"
      },
      "cell_type": "code",
      "source": [
        "import numpy as np\n",
        "a = np.ones(5)\n",
        "b = torch.from_numpy(a)\n",
        "np.add(a, 1, out=a)\n",
        "print(a)\n",
        "print(b)"
      ],
      "execution_count": 19,
      "outputs": [
        {
          "output_type": "stream",
          "text": [
            "[2. 2. 2. 2. 2.]\n",
            "tensor([ 2.,  2.,  2.,  2.,  2.], dtype=torch.float64)\n"
          ],
          "name": "stdout"
        }
      ]
    },
    {
      "metadata": {
        "id": "5aBgS6LqUaUJ",
        "colab_type": "code",
        "colab": {
          "base_uri": "https://localhost:8080/",
          "height": 156
        },
        "outputId": "07ad797a-945b-4f52-c571-42de0667f487"
      },
      "cell_type": "code",
      "source": [
        "# let us run this cell only if CUDA is available\n",
        "# We will use ``torch.device`` objects to move tensors in and out of GPU\n",
        "if torch.cuda.is_available():\n",
        "    device = torch.device(\"cuda\")          # a CUDA device object\n",
        "    y = torch.ones_like(x, device=device)  # directly create a tensor on GPU\n",
        "    x = x.to(device)                       # or just use strings ``.to(\"cuda\")``\n",
        "    z = x + y\n",
        "    print(z)\n",
        "    print(z.to(\"cpu\", torch.double))       # ``.to`` can also change dtype together!"
      ],
      "execution_count": 20,
      "outputs": [
        {
          "output_type": "stream",
          "text": [
            "tensor([[ 0.8624,  1.3965,  1.1757,  1.3538],\n",
            "        [ 0.8049,  0.8824,  0.5007,  1.6184],\n",
            "        [ 1.1935,  1.6094,  1.3424,  1.3359],\n",
            "        [-0.8174,  1.8935,  1.1532, -0.3462]], device='cuda:0')\n",
            "tensor([[ 0.8624,  1.3965,  1.1757,  1.3538],\n",
            "        [ 0.8049,  0.8824,  0.5007,  1.6184],\n",
            "        [ 1.1935,  1.6094,  1.3424,  1.3359],\n",
            "        [-0.8174,  1.8935,  1.1532, -0.3462]], dtype=torch.float64)\n"
          ],
          "name": "stdout"
        }
      ]
    },
    {
      "metadata": {
        "id": "Huw_lhizU4Tq",
        "colab_type": "text"
      },
      "cell_type": "markdown",
      "source": [
        "# Summary\n",
        "\n",
        "Essentially this is just a numpy wrapper. Running something explicitly on GPU (i.e. creating a matrix on the GPU directly so all future operations run on the GPU as well). "
      ]
    },
    {
      "metadata": {
        "id": "DLVsarMOU51Z",
        "colab_type": "code",
        "colab": {}
      },
      "cell_type": "code",
      "source": [
        ""
      ],
      "execution_count": 0,
      "outputs": []
    }
  ]
}