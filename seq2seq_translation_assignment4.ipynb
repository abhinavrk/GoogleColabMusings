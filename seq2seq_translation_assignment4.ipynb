{
  "nbformat": 4,
  "nbformat_minor": 0,
  "metadata": {
    "colab": {
      "name": "seq2seq_translation_tutorial.ipynb",
      "version": "0.3.2",
      "provenance": [],
      "collapsed_sections": [],
      "include_colab_link": true
    },
    "kernelspec": {
      "display_name": "Python 3",
      "language": "python",
      "name": "python3"
    },
    "accelerator": "GPU"
  },
  "cells": [
    {
      "cell_type": "markdown",
      "metadata": {
        "id": "view-in-github",
        "colab_type": "text"
      },
      "source": [
        "[View in Colaboratory](https://colab.research.google.com/github/abhinavrk/GoogleColabMusings/blob/master/seq2seq_translation_assignment4.ipynb)"
      ]
    },
    {
      "metadata": {
        "id": "r5dRIZBXxRMY",
        "colab_type": "code",
        "colab": {
          "base_uri": "https://localhost:8080/",
          "height": 243
        },
        "outputId": "96cb7fd1-4d46-47a7-fc96-922d6fcc5088"
      },
      "cell_type": "code",
      "source": [
        "loaded = False\n",
        "\n",
        "if not loaded:\n",
        "  # http://pytorch.org/\n",
        "  from os import path\n",
        "  from wheel.pep425tags import get_abbr_impl, get_impl_ver, get_abi_tag\n",
        "  platform = '{}{}-{}'.format(get_abbr_impl(), get_impl_ver(), get_abi_tag())\n",
        "\n",
        "  accelerator = 'cu80' if path.exists('/opt/bin/nvidia-smi') else 'cpu'\n",
        "\n",
        "  !pip install -q http://download.pytorch.org/whl/{accelerator}/torch-0.4.0-{platform}-linux_x86_64.whl torchvision\n",
        "\n",
        "  import torch\n",
        "  loaded = True\n",
        "\n",
        "  !wget https://download.pytorch.org/tutorial/data.zip\n",
        "  !unzip data.zip"
      ],
      "execution_count": 2,
      "outputs": [
        {
          "output_type": "stream",
          "text": [
            "--2018-07-19 18:30:00--  https://download.pytorch.org/tutorial/data.zip\n",
            "Resolving download.pytorch.org (download.pytorch.org)... 13.32.80.66, 13.32.80.22, 13.32.80.53, ...\n",
            "Connecting to download.pytorch.org (download.pytorch.org)|13.32.80.66|:443... connected.\n",
            "HTTP request sent, awaiting response... 200 OK\n",
            "Length: 2882130 (2.7M) [application/zip]\n",
            "Saving to: ‘data.zip.1’\n",
            "\n",
            "data.zip.1          100%[===================>]   2.75M  5.35MB/s    in 0.5s    \n",
            "\n",
            "2018-07-19 18:30:01 (5.35 MB/s) - ‘data.zip.1’ saved [2882130/2882130]\n",
            "\n",
            "Archive:  data.zip\n",
            "replace data/eng-fra.txt? [y]es, [n]o, [A]ll, [N]one, [r]ename: ^C\n"
          ],
          "name": "stdout"
        }
      ]
    },
    {
      "metadata": {
        "id": "9uJyGFefxOXr",
        "colab_type": "code",
        "colab": {}
      },
      "cell_type": "code",
      "source": [
        "%matplotlib inline"
      ],
      "execution_count": 0,
      "outputs": []
    },
    {
      "metadata": {
        "id": "zv-eItS4xOYG",
        "colab_type": "code",
        "colab": {}
      },
      "cell_type": "code",
      "source": [
        "from __future__ import unicode_literals, print_function, division\n",
        "from io import open\n",
        "import unicodedata\n",
        "import string\n",
        "import re\n",
        "import random\n",
        "\n",
        "import torch\n",
        "import torch.nn as nn\n",
        "from torch import optim\n",
        "import torch.nn.functional as F\n",
        "\n",
        "device = torch.device(\"cuda\" if torch.cuda.is_available() else \"cpu\")"
      ],
      "execution_count": 0,
      "outputs": []
    },
    {
      "metadata": {
        "id": "jQ1YKiFvxOYc",
        "colab_type": "code",
        "colab": {}
      },
      "cell_type": "code",
      "source": [
        "SOS_token = 0\n",
        "EOS_token = 1\n",
        "\n",
        "\n",
        "class Lang:\n",
        "    def __init__(self, name):\n",
        "        self.name = name\n",
        "        self.word2index = {}\n",
        "        self.word2count = {}\n",
        "        self.index2word = {0: \"SOS\", 1: \"EOS\"}\n",
        "        self.n_words = 2  # Count SOS and EOS\n",
        "\n",
        "    def addSentence(self, sentence):\n",
        "        for word in sentence.split(' '):\n",
        "            self.addWord(word)\n",
        "\n",
        "    def addWord(self, word):\n",
        "        if word not in self.word2index:\n",
        "            self.word2index[word] = self.n_words\n",
        "            self.word2count[word] = 1\n",
        "            self.index2word[self.n_words] = word\n",
        "            self.n_words += 1\n",
        "        else:\n",
        "            self.word2count[word] += 1"
      ],
      "execution_count": 0,
      "outputs": []
    },
    {
      "metadata": {
        "id": "gnoGRMBJxOYm",
        "colab_type": "code",
        "colab": {}
      },
      "cell_type": "code",
      "source": [
        "# Turn a Unicode string to plain ASCII, thanks to\n",
        "# http://stackoverflow.com/a/518232/2809427\n",
        "def unicodeToAscii(s):\n",
        "    return ''.join(\n",
        "        c for c in unicodedata.normalize('NFD', s)\n",
        "        if unicodedata.category(c) != 'Mn'\n",
        "    )\n",
        "\n",
        "# Lowercase, trim, and remove non-letter characters\n",
        "\n",
        "\n",
        "def normalizeString(s):\n",
        "    s = unicodeToAscii(s.lower().strip())\n",
        "    s = re.sub(r\"([.!?])\", r\" \\1\", s)\n",
        "    s = re.sub(r\"[^a-zA-Z.!?]+\", r\" \", s)\n",
        "    return s"
      ],
      "execution_count": 0,
      "outputs": []
    },
    {
      "metadata": {
        "id": "k3kfW9aXxOY1",
        "colab_type": "code",
        "colab": {}
      },
      "cell_type": "code",
      "source": [
        "def readLangs(lang1, lang2, reverse=False):\n",
        "    print(\"Reading lines...\")\n",
        "\n",
        "    # Read the file and split into lines\n",
        "    lines = open('data/%s-%s.txt' % (lang1, lang2), encoding='utf-8').\\\n",
        "        read().strip().split('\\n')\n",
        "\n",
        "    # Split every line into pairs and normalize\n",
        "    pairs = [[normalizeString(s) for s in l.split('\\t')] for l in lines]\n",
        "\n",
        "    # Reverse pairs, make Lang instances\n",
        "    if reverse:\n",
        "        pairs = [list(reversed(p)) for p in pairs]\n",
        "        input_lang = Lang(lang2)\n",
        "        output_lang = Lang(lang1)\n",
        "    else:\n",
        "        input_lang = Lang(lang1)\n",
        "        output_lang = Lang(lang2)\n",
        "\n",
        "    return input_lang, output_lang, pairs"
      ],
      "execution_count": 0,
      "outputs": []
    },
    {
      "metadata": {
        "id": "QH0fsU1BxOZA",
        "colab_type": "code",
        "colab": {}
      },
      "cell_type": "code",
      "source": [
        "MAX_LENGTH = 10\n",
        "\n",
        "eng_prefixes = (\n",
        "    \"i am \", \"i m \",\n",
        "    \"he is\", \"he s \",\n",
        "    \"she is\", \"she s\",\n",
        "    \"you are\", \"you re \",\n",
        "    \"we are\", \"we re \",\n",
        "    \"they are\", \"they re \"\n",
        ")\n",
        "\n",
        "\n",
        "def filterPair(p):\n",
        "    return len(p[0].split(' ')) < MAX_LENGTH and \\\n",
        "        len(p[1].split(' ')) < MAX_LENGTH and \\\n",
        "        p[1].startswith(eng_prefixes)\n",
        "\n",
        "\n",
        "def filterPairs(pairs):\n",
        "    return [pair for pair in pairs if filterPair(pair)]"
      ],
      "execution_count": 0,
      "outputs": []
    },
    {
      "metadata": {
        "id": "NH4tSl_AxOZL",
        "colab_type": "code",
        "colab": {
          "base_uri": "https://localhost:8080/",
          "height": 156
        },
        "outputId": "0628dc19-f983-41c6-adb9-c1d90c6c9d54"
      },
      "cell_type": "code",
      "source": [
        "def prepareData(lang1, lang2, reverse=False):\n",
        "    input_lang, output_lang, pairs = readLangs(lang1, lang2, reverse)\n",
        "    print(\"Read %s sentence pairs\" % len(pairs))\n",
        "    pairs = filterPairs(pairs)\n",
        "    print(\"Trimmed to %s sentence pairs\" % len(pairs))\n",
        "    print(\"Counting words...\")\n",
        "    for pair in pairs:\n",
        "        input_lang.addSentence(pair[0])\n",
        "        output_lang.addSentence(pair[1])\n",
        "    print(\"Counted words:\")\n",
        "    print(input_lang.name, input_lang.n_words)\n",
        "    print(output_lang.name, output_lang.n_words)\n",
        "    return input_lang, output_lang, pairs\n",
        "\n",
        "\n",
        "input_lang, output_lang, pairs = prepareData('eng', 'fra', True)\n",
        "print(random.choice(pairs))"
      ],
      "execution_count": 9,
      "outputs": [
        {
          "output_type": "stream",
          "text": [
            "Reading lines...\n",
            "Read 135842 sentence pairs\n",
            "Trimmed to 10853 sentence pairs\n",
            "Counting words...\n",
            "Counted words:\n",
            "fra 4489\n",
            "eng 2925\n",
            "['ils sont chanteurs .', 'they are singers .']\n"
          ],
          "name": "stdout"
        }
      ]
    },
    {
      "metadata": {
        "id": "wMv0o0-YxOZb",
        "colab_type": "code",
        "colab": {}
      },
      "cell_type": "code",
      "source": [
        "class EncoderRNN(nn.Module):\n",
        "    def __init__(self, input_size, hidden_size):\n",
        "        super(EncoderRNN, self).__init__()\n",
        "        self.hidden_size = hidden_size\n",
        "\n",
        "        self.embedding = nn.Embedding(input_size, hidden_size)\n",
        "        self.gru = nn.GRU(hidden_size, hidden_size)\n",
        "\n",
        "    def forward(self, input, hidden):\n",
        "        embedded = self.embedding(input).view(1, 1, -1)\n",
        "        output = embedded\n",
        "        output, hidden = self.gru(output, hidden)\n",
        "        return output, hidden\n",
        "\n",
        "    def initHidden(self):\n",
        "        return torch.zeros(1, 1, self.hidden_size, device=device)"
      ],
      "execution_count": 0,
      "outputs": []
    },
    {
      "metadata": {
        "id": "cCEQPh7SxOZu",
        "colab_type": "code",
        "colab": {}
      },
      "cell_type": "code",
      "source": [
        "class DecoderRNN(nn.Module):\n",
        "    def __init__(self, hidden_size, output_size):\n",
        "        super(DecoderRNN, self).__init__()\n",
        "        self.hidden_size = hidden_size\n",
        "\n",
        "        self.embedding = nn.Embedding(output_size, hidden_size)\n",
        "        self.gru = nn.GRU(hidden_size, hidden_size)\n",
        "        self.out = nn.Linear(hidden_size, output_size)\n",
        "        self.softmax = nn.LogSoftmax(dim=1)\n",
        "\n",
        "    def forward(self, input, hidden, enc_outputs):\n",
        "        output = self.embedding(input).view(1, 1, -1)\n",
        "        output = F.relu(output)\n",
        "        output, hidden = self.gru(output, hidden)\n",
        "        output = self.softmax(self.out(output[0]))\n",
        "        return output, hidden, enc_outputs\n",
        "\n",
        "    def initHidden(self):\n",
        "        return torch.zeros(1, 1, self.hidden_size, device=device)"
      ],
      "execution_count": 0,
      "outputs": []
    },
    {
      "metadata": {
        "id": "h8jrBbcDxOZ5",
        "colab_type": "code",
        "colab": {}
      },
      "cell_type": "code",
      "source": [
        "class AttnDecoderRNN(nn.Module):\n",
        "    def __init__(self, hidden_size, output_size, dropout_p=0.1, max_length=MAX_LENGTH):\n",
        "        super(AttnDecoderRNN, self).__init__()\n",
        "        self.hidden_size = hidden_size\n",
        "        self.output_size = output_size\n",
        "        self.dropout_p = dropout_p\n",
        "        self.max_length = max_length\n",
        "\n",
        "        self.embedding = nn.Embedding(self.output_size, self.hidden_size)\n",
        "        self.attn = nn.Linear(self.hidden_size * 2, self.max_length)\n",
        "        self.attn_combine = nn.Linear(self.hidden_size * 2, self.hidden_size)\n",
        "        self.dropout = nn.Dropout(self.dropout_p)\n",
        "        self.gru = nn.GRU(self.hidden_size, self.hidden_size)\n",
        "        self.out = nn.Linear(self.hidden_size, self.output_size)\n",
        "\n",
        "    def forward(self, input, hidden, encoder_outputs):\n",
        "        embedded = self.embedding(input).view(1, 1, -1)\n",
        "        embedded = self.dropout(embedded)\n",
        "\n",
        "        attn_weights = F.softmax(\n",
        "            self.attn(torch.cat((embedded[0], hidden[0]), 1)), dim=1)\n",
        "        attn_applied = torch.bmm(attn_weights.unsqueeze(0),\n",
        "                                 encoder_outputs.unsqueeze(0))\n",
        "\n",
        "        output = torch.cat((embedded[0], attn_applied[0]), 1)\n",
        "        output = self.attn_combine(output).unsqueeze(0)\n",
        "\n",
        "        output = F.relu(output)\n",
        "        output, hidden = self.gru(output, hidden)\n",
        "\n",
        "        output = F.log_softmax(self.out(output[0]), dim=1)\n",
        "        return output, hidden, attn_weights\n",
        "\n",
        "    def initHidden(self):\n",
        "        return torch.zeros(1, 1, self.hidden_size, device=device)"
      ],
      "execution_count": 0,
      "outputs": []
    },
    {
      "metadata": {
        "id": "_kAIR47mxOaB",
        "colab_type": "code",
        "colab": {}
      },
      "cell_type": "code",
      "source": [
        "def indexesFromSentence(lang, sentence):\n",
        "    return [lang.word2index[word] for word in sentence.split(' ')]\n",
        "\n",
        "\n",
        "def tensorFromSentence(lang, sentence):\n",
        "    indexes = indexesFromSentence(lang, sentence)\n",
        "    indexes.append(EOS_token)\n",
        "    return torch.tensor(indexes, dtype=torch.long, device=device).view(-1, 1)\n",
        "\n",
        "\n",
        "def tensorsFromPair(pair):\n",
        "    input_tensor = tensorFromSentence(input_lang, pair[0])\n",
        "    target_tensor = tensorFromSentence(output_lang, pair[1])\n",
        "    return (input_tensor, target_tensor)"
      ],
      "execution_count": 0,
      "outputs": []
    },
    {
      "metadata": {
        "id": "gDWxG45AxOaK",
        "colab_type": "code",
        "colab": {}
      },
      "cell_type": "code",
      "source": [
        "teacher_forcing_ratio = 0.5\n",
        "\n",
        "\n",
        "def train(input_tensor, target_tensor, encoder, decoder, encoder_optimizer, decoder_optimizer, criterion, max_length=MAX_LENGTH):\n",
        "    encoder_hidden = encoder.initHidden()\n",
        "\n",
        "    encoder_optimizer.zero_grad()\n",
        "    decoder_optimizer.zero_grad()\n",
        "\n",
        "    input_length = input_tensor.size(0)\n",
        "    target_length = target_tensor.size(0)\n",
        "\n",
        "    encoder_outputs = torch.zeros(max_length, encoder.hidden_size, device=device)\n",
        "\n",
        "    loss = 0\n",
        "\n",
        "    for ei in range(input_length):\n",
        "        encoder_output, encoder_hidden = encoder(\n",
        "            input_tensor[ei], encoder_hidden)\n",
        "        encoder_outputs[ei] = encoder_output[0, 0]\n",
        "\n",
        "    decoder_input = torch.tensor([[SOS_token]], device=device)\n",
        "\n",
        "    decoder_hidden = encoder_hidden\n",
        "\n",
        "    use_teacher_forcing = True if random.random() < teacher_forcing_ratio else False\n",
        "\n",
        "    if use_teacher_forcing:\n",
        "        # Teacher forcing: Feed the target as the next input\n",
        "        for di in range(target_length):\n",
        "            decoder_output, decoder_hidden, decoder_attention = decoder(\n",
        "                decoder_input, decoder_hidden, encoder_outputs)\n",
        "            loss += criterion(decoder_output, target_tensor[di])\n",
        "            decoder_input = target_tensor[di]  # Teacher forcing\n",
        "\n",
        "    else:\n",
        "        # Without teacher forcing: use its own predictions as the next input\n",
        "        for di in range(target_length):\n",
        "            decoder_output, decoder_hidden, decoder_attention = decoder(\n",
        "                decoder_input, decoder_hidden, encoder_outputs)\n",
        "            topv, topi = decoder_output.topk(1)\n",
        "            decoder_input = topi.squeeze().detach()  # detach from history as input\n",
        "\n",
        "            loss += criterion(decoder_output, target_tensor[di])\n",
        "            if decoder_input.item() == EOS_token:\n",
        "                break\n",
        "\n",
        "    loss.backward()\n",
        "\n",
        "    encoder_optimizer.step()\n",
        "    decoder_optimizer.step()\n",
        "\n",
        "    return loss.item() / target_length"
      ],
      "execution_count": 0,
      "outputs": []
    },
    {
      "metadata": {
        "id": "sW3MW3yXxOaT",
        "colab_type": "code",
        "colab": {}
      },
      "cell_type": "code",
      "source": [
        "import time\n",
        "import math\n",
        "\n",
        "\n",
        "def asMinutes(s):\n",
        "    m = math.floor(s / 60)\n",
        "    s -= m * 60\n",
        "    return '%dm %ds' % (m, s)\n",
        "\n",
        "\n",
        "def timeSince(since, percent):\n",
        "    now = time.time()\n",
        "    s = now - since\n",
        "    es = s / (percent)\n",
        "    rs = es - s\n",
        "    return '%s (- %s)' % (asMinutes(s), asMinutes(rs))"
      ],
      "execution_count": 0,
      "outputs": []
    },
    {
      "metadata": {
        "id": "M1yF-S48xOad",
        "colab_type": "code",
        "colab": {}
      },
      "cell_type": "code",
      "source": [
        "def trainIters(encoder, decoder, n_iters, print_every=1000, plot_every=100, learning_rate=0.01):\n",
        "    start = time.time()\n",
        "    plot_losses = []\n",
        "    print_loss_total = 0  # Reset every print_every\n",
        "    plot_loss_total = 0  # Reset every plot_every\n",
        "\n",
        "    encoder_optimizer = optim.SGD(encoder.parameters(), lr=learning_rate)\n",
        "    decoder_optimizer = optim.SGD(decoder.parameters(), lr=learning_rate)\n",
        "    training_pairs = [tensorsFromPair(random.choice(pairs))\n",
        "                      for i in range(n_iters)]\n",
        "    criterion = nn.NLLLoss()\n",
        "\n",
        "    for iter in range(1, n_iters + 1):\n",
        "        training_pair = training_pairs[iter - 1]\n",
        "        input_tensor = training_pair[0]\n",
        "        target_tensor = training_pair[1]\n",
        "\n",
        "        loss = train(input_tensor, target_tensor, encoder,\n",
        "                     decoder, encoder_optimizer, decoder_optimizer, criterion)\n",
        "        print_loss_total += loss\n",
        "        plot_loss_total += loss\n",
        "\n",
        "        if iter % print_every == 0:\n",
        "            print_loss_avg = print_loss_total / print_every\n",
        "            print_loss_total = 0\n",
        "            print('%s (%d %d%%) %.4f' % (timeSince(start, iter / n_iters),\n",
        "                                         iter, iter / n_iters * 100, print_loss_avg))\n",
        "\n",
        "        if iter % plot_every == 0:\n",
        "            plot_loss_avg = plot_loss_total / plot_every\n",
        "            plot_losses.append(plot_loss_avg)\n",
        "            plot_loss_total = 0\n",
        "\n",
        "    return plot_losses"
      ],
      "execution_count": 0,
      "outputs": []
    },
    {
      "metadata": {
        "id": "y1JaRetqxObN",
        "colab_type": "code",
        "colab": {
          "base_uri": "https://localhost:8080/",
          "height": 1320
        },
        "outputId": "fdf1cb6d-8b1d-4087-dd99-723e5b571012"
      },
      "cell_type": "code",
      "source": [
        "hidden_size = 256\n",
        "encoder1 = EncoderRNN(input_lang.n_words, hidden_size).to(device)\n",
        "attn_decoder1 = AttnDecoderRNN(\n",
        "    hidden_size, output_lang.n_words, dropout_p=0.1).to(device)\n",
        "\n",
        "attn_decoder_losses = trainIters(encoder1, attn_decoder1, 75000, print_every=1000)"
      ],
      "execution_count": 22,
      "outputs": [
        {
          "output_type": "stream",
          "text": [
            "0m 51s (- 63m 4s) (1000 1%) 3.5203\n",
            "1m 34s (- 57m 14s) (2000 2%) 3.0172\n",
            "2m 17s (- 54m 53s) (3000 4%) 2.7740\n",
            "3m 0s (- 53m 23s) (4000 5%) 2.6507\n",
            "3m 44s (- 52m 16s) (5000 6%) 2.5391\n",
            "4m 27s (- 51m 15s) (6000 8%) 2.4581\n",
            "5m 11s (- 50m 21s) (7000 9%) 2.4087\n",
            "5m 54s (- 49m 31s) (8000 10%) 2.3230\n",
            "6m 38s (- 48m 41s) (9000 12%) 2.2588\n",
            "7m 21s (- 47m 50s) (10000 13%) 2.1400\n",
            "8m 5s (- 47m 5s) (11000 14%) 2.0858\n",
            "8m 49s (- 46m 18s) (12000 16%) 2.0196\n",
            "9m 33s (- 45m 33s) (13000 17%) 2.0159\n",
            "10m 17s (- 44m 50s) (14000 18%) 1.9558\n",
            "11m 0s (- 44m 3s) (15000 20%) 1.8696\n",
            "11m 44s (- 43m 17s) (16000 21%) 1.8242\n",
            "12m 28s (- 42m 35s) (17000 22%) 1.8154\n",
            "13m 12s (- 41m 50s) (18000 24%) 1.7608\n",
            "13m 56s (- 41m 6s) (19000 25%) 1.6518\n",
            "14m 41s (- 40m 23s) (20000 26%) 1.6354\n",
            "15m 24s (- 39m 37s) (21000 28%) 1.6389\n",
            "16m 8s (- 38m 53s) (22000 29%) 1.5939\n",
            "16m 52s (- 38m 9s) (23000 30%) 1.5328\n",
            "17m 36s (- 37m 25s) (24000 32%) 1.4939\n",
            "18m 20s (- 36m 41s) (25000 33%) 1.5108\n",
            "19m 5s (- 35m 57s) (26000 34%) 1.4267\n",
            "19m 49s (- 35m 14s) (27000 36%) 1.4565\n",
            "20m 33s (- 34m 30s) (28000 37%) 1.3680\n",
            "21m 17s (- 33m 45s) (29000 38%) 1.3464\n",
            "22m 1s (- 33m 2s) (30000 40%) 1.3723\n",
            "22m 46s (- 32m 19s) (31000 41%) 1.2895\n",
            "23m 30s (- 31m 35s) (32000 42%) 1.2936\n",
            "24m 15s (- 30m 51s) (33000 44%) 1.2489\n",
            "24m 59s (- 30m 8s) (34000 45%) 1.2021\n",
            "25m 43s (- 29m 23s) (35000 46%) 1.1807\n",
            "26m 27s (- 28m 40s) (36000 48%) 1.1057\n",
            "27m 12s (- 27m 56s) (37000 49%) 1.1507\n",
            "27m 56s (- 27m 12s) (38000 50%) 1.1537\n",
            "28m 41s (- 26m 29s) (39000 52%) 1.0897\n",
            "29m 26s (- 25m 45s) (40000 53%) 1.0704\n",
            "30m 10s (- 25m 1s) (41000 54%) 1.0387\n",
            "30m 55s (- 24m 17s) (42000 56%) 1.0395\n",
            "31m 39s (- 23m 33s) (43000 57%) 0.9799\n",
            "32m 24s (- 22m 49s) (44000 58%) 0.9353\n",
            "33m 8s (- 22m 5s) (45000 60%) 0.9695\n",
            "33m 52s (- 21m 21s) (46000 61%) 0.9476\n",
            "34m 37s (- 20m 37s) (47000 62%) 0.9656\n",
            "35m 21s (- 19m 53s) (48000 64%) 0.9409\n",
            "36m 6s (- 19m 9s) (49000 65%) 0.9199\n",
            "36m 51s (- 18m 25s) (50000 66%) 0.9042\n",
            "37m 35s (- 17m 41s) (51000 68%) 0.8960\n",
            "38m 21s (- 16m 58s) (52000 69%) 0.8558\n",
            "39m 7s (- 16m 14s) (53000 70%) 0.8162\n",
            "39m 53s (- 15m 30s) (54000 72%) 0.8347\n",
            "40m 39s (- 14m 47s) (55000 73%) 0.8411\n",
            "41m 25s (- 14m 3s) (56000 74%) 0.8064\n",
            "42m 10s (- 13m 19s) (57000 76%) 0.7802\n",
            "42m 55s (- 12m 34s) (58000 77%) 0.7678\n",
            "43m 39s (- 11m 50s) (59000 78%) 0.7352\n",
            "44m 23s (- 11m 5s) (60000 80%) 0.7227\n",
            "45m 8s (- 10m 21s) (61000 81%) 0.7193\n",
            "45m 53s (- 9m 37s) (62000 82%) 0.7109\n",
            "46m 38s (- 8m 53s) (63000 84%) 0.7005\n",
            "47m 24s (- 8m 8s) (64000 85%) 0.6845\n",
            "48m 9s (- 7m 24s) (65000 86%) 0.6345\n",
            "48m 55s (- 6m 40s) (66000 88%) 0.6744\n",
            "49m 40s (- 5m 55s) (67000 89%) 0.6707\n",
            "50m 26s (- 5m 11s) (68000 90%) 0.6229\n",
            "51m 11s (- 4m 27s) (69000 92%) 0.6092\n",
            "51m 57s (- 3m 42s) (70000 93%) 0.6347\n",
            "52m 43s (- 2m 58s) (71000 94%) 0.5722\n",
            "53m 28s (- 2m 13s) (72000 96%) 0.5594\n"
          ],
          "name": "stdout"
        },
        {
          "output_type": "stream",
          "text": [
            "54m 14s (- 1m 29s) (73000 97%) 0.5746\n",
            "55m 0s (- 0m 44s) (74000 98%) 0.5571\n",
            "55m 45s (- 0m 0s) (75000 100%) 0.5792\n"
          ],
          "name": "stdout"
        }
      ]
    },
    {
      "metadata": {
        "id": "QjSukt3Uy7q_",
        "colab_type": "code",
        "colab": {
          "base_uri": "https://localhost:8080/",
          "height": 1320
        },
        "outputId": "672f33f0-d8bd-41f5-e74e-08d6e00ba6fd"
      },
      "cell_type": "code",
      "source": [
        "hidden_size = 256\n",
        "encoder2 = EncoderRNN(input_lang.n_words, hidden_size).to(device)\n",
        "decoder2 = DecoderRNN(\n",
        "    hidden_size, output_lang.n_words).to(device)\n",
        "\n",
        "decoder_losses = trainIters(encoder2, decoder2, 75000, print_every=1000)"
      ],
      "execution_count": 29,
      "outputs": [
        {
          "output_type": "stream",
          "text": [
            "0m 39s (- 48m 31s) (1000 1%) 3.5003\n",
            "1m 8s (- 41m 49s) (2000 2%) 3.0756\n",
            "1m 38s (- 39m 20s) (3000 4%) 2.8425\n",
            "2m 8s (- 37m 52s) (4000 5%) 2.7004\n",
            "2m 37s (- 36m 48s) (5000 6%) 2.6430\n",
            "3m 8s (- 36m 3s) (6000 8%) 2.6138\n",
            "3m 38s (- 35m 21s) (7000 9%) 2.4862\n",
            "4m 8s (- 34m 40s) (8000 10%) 2.4026\n",
            "4m 38s (- 34m 3s) (9000 12%) 2.3019\n",
            "5m 9s (- 33m 31s) (10000 13%) 2.3281\n",
            "5m 39s (- 32m 57s) (11000 14%) 2.2025\n",
            "6m 10s (- 32m 23s) (12000 16%) 2.1558\n",
            "6m 40s (- 31m 50s) (13000 17%) 2.0995\n",
            "7m 10s (- 31m 16s) (14000 18%) 2.0257\n",
            "7m 41s (- 30m 46s) (15000 20%) 1.9645\n",
            "8m 11s (- 30m 14s) (16000 21%) 1.9234\n",
            "8m 42s (- 29m 41s) (17000 22%) 1.8854\n",
            "9m 12s (- 29m 10s) (18000 24%) 1.8239\n",
            "9m 43s (- 28m 40s) (19000 25%) 1.7321\n",
            "10m 14s (- 28m 9s) (20000 26%) 1.7338\n",
            "10m 44s (- 27m 38s) (21000 28%) 1.6929\n",
            "11m 15s (- 27m 6s) (22000 29%) 1.6851\n",
            "11m 46s (- 26m 36s) (23000 30%) 1.6020\n",
            "12m 16s (- 26m 5s) (24000 32%) 1.5988\n",
            "12m 47s (- 25m 34s) (25000 33%) 1.5264\n",
            "13m 17s (- 25m 3s) (26000 34%) 1.4719\n",
            "13m 48s (- 24m 33s) (27000 36%) 1.4547\n",
            "14m 19s (- 24m 2s) (28000 37%) 1.4318\n",
            "14m 49s (- 23m 31s) (29000 38%) 1.3747\n",
            "15m 20s (- 23m 0s) (30000 40%) 1.3271\n",
            "15m 51s (- 22m 30s) (31000 41%) 1.3154\n",
            "16m 21s (- 21m 59s) (32000 42%) 1.3209\n",
            "16m 52s (- 21m 28s) (33000 44%) 1.3175\n",
            "17m 23s (- 20m 58s) (34000 45%) 1.2729\n",
            "17m 53s (- 20m 27s) (35000 46%) 1.1688\n",
            "18m 24s (- 19m 56s) (36000 48%) 1.2378\n",
            "18m 54s (- 19m 25s) (37000 49%) 1.1456\n",
            "19m 25s (- 18m 55s) (38000 50%) 1.1663\n",
            "19m 57s (- 18m 25s) (39000 52%) 1.1042\n",
            "20m 29s (- 17m 55s) (40000 53%) 1.1210\n",
            "21m 1s (- 17m 25s) (41000 54%) 1.0471\n",
            "21m 32s (- 16m 55s) (42000 56%) 1.0621\n",
            "22m 4s (- 16m 25s) (43000 57%) 1.0116\n",
            "22m 35s (- 15m 55s) (44000 58%) 1.0088\n",
            "23m 7s (- 15m 24s) (45000 60%) 0.9696\n",
            "23m 38s (- 14m 54s) (46000 61%) 0.9367\n",
            "24m 10s (- 14m 24s) (47000 62%) 0.9268\n",
            "24m 42s (- 13m 53s) (48000 64%) 0.9596\n",
            "25m 13s (- 13m 23s) (49000 65%) 0.9225\n",
            "25m 45s (- 12m 52s) (50000 66%) 0.8695\n",
            "26m 16s (- 12m 22s) (51000 68%) 0.8981\n",
            "26m 48s (- 11m 51s) (52000 69%) 0.8494\n",
            "27m 20s (- 11m 21s) (53000 70%) 0.8424\n",
            "27m 52s (- 10m 50s) (54000 72%) 0.8128\n",
            "28m 24s (- 10m 19s) (55000 73%) 0.7980\n",
            "28m 55s (- 9m 48s) (56000 74%) 0.7555\n",
            "29m 27s (- 9m 18s) (57000 76%) 0.7686\n",
            "29m 59s (- 8m 47s) (58000 77%) 0.7491\n",
            "30m 30s (- 8m 16s) (59000 78%) 0.7179\n",
            "31m 2s (- 7m 45s) (60000 80%) 0.7295\n",
            "31m 34s (- 7m 14s) (61000 81%) 0.7282\n",
            "32m 5s (- 6m 43s) (62000 82%) 0.7263\n",
            "32m 37s (- 6m 12s) (63000 84%) 0.6994\n",
            "33m 8s (- 5m 41s) (64000 85%) 0.6512\n",
            "33m 40s (- 5m 10s) (65000 86%) 0.6115\n",
            "34m 12s (- 4m 39s) (66000 88%) 0.6205\n",
            "34m 44s (- 4m 8s) (67000 89%) 0.6034\n",
            "35m 16s (- 3m 37s) (68000 90%) 0.6049\n",
            "35m 48s (- 3m 6s) (69000 92%) 0.6455\n",
            "36m 20s (- 2m 35s) (70000 93%) 0.5401\n",
            "36m 52s (- 2m 4s) (71000 94%) 0.5930\n",
            "37m 23s (- 1m 33s) (72000 96%) 0.5138\n"
          ],
          "name": "stdout"
        },
        {
          "output_type": "stream",
          "text": [
            "37m 55s (- 1m 2s) (73000 97%) 0.5734\n",
            "38m 27s (- 0m 31s) (74000 98%) 0.5132\n",
            "38m 59s (- 0m 0s) (75000 100%) 0.4997\n"
          ],
          "name": "stdout"
        }
      ]
    },
    {
      "metadata": {
        "id": "eRdX0J6IxOan",
        "colab_type": "code",
        "colab": {
          "base_uri": "https://localhost:8080/",
          "height": 554
        },
        "outputId": "966088c9-e8c5-4898-83dd-6121082cc624"
      },
      "cell_type": "code",
      "source": [
        "import matplotlib.pyplot as plt\n",
        "plt.rcParams['figure.figsize'] = [18, 9]\n",
        "\n",
        "attn_decoder_losses_avg = []\n",
        "decoder_losses_avg = []\n",
        "\n",
        "for i in range(0, len(attn_decoder_losses), 10):\n",
        "  attn_decoder_losses_avg.append(sum(attn_decoder_losses[i:i+10])/10.)\n",
        "  decoder_losses_avg.append(sum(decoder_losses[i:i+10])/10.)\n",
        "\n",
        "plt.figure()\n",
        "plt.plot(attn_decoder_losses_avg, label='Attention Decoder RNN')\n",
        "plt.plot(decoder_losses_avg, label='Decoder RNN')\n",
        "plt.legend()"
      ],
      "execution_count": 33,
      "outputs": [
        {
          "output_type": "execute_result",
          "data": {
            "text/plain": [
              "<matplotlib.legend.Legend at 0x7fb57474ee48>"
            ]
          },
          "metadata": {
            "tags": []
          },
          "execution_count": 33
        },
        {
          "output_type": "display_data",
          "data": {
            "image/png": "[encoded data removed]",
            "text/plain": [
              "<matplotlib.figure.Figure at 0x7fb5747c3a58>"
            ]
          },
          "metadata": {
            "tags": []
          }
        }
      ]
    }
  ]
}